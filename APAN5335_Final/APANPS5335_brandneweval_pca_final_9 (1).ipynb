{
 "cells": [
  {
   "cell_type": "code",
   "execution_count": 20,
   "metadata": {},
   "outputs": [],
   "source": [
    "import os,array\n",
    "import pandas as pd\n",
    "os.chdir('/Users/matthewvitha/Desktop/ml_final')\n",
    "import time\n",
    "\n",
    "from PIL import Image\n",
    "columnNames = list()\n",
    "\n",
    "for i in range(784):\n",
    "    pixel = 'pixel'\n",
    "    pixel += str(i)\n",
    "    columnNames.append(pixel)\n",
    "\n",
    "\n",
    "train_data = pd.DataFrame(columns = columnNames)\n",
    "start_time = time.time()\n",
    "for i in range(557,582):\n",
    "    t = i\n",
    "    img_name = \"IMG_2\"+str(t)+'.JPG'\n",
    "    img = Image.open(img_name)\n",
    "    rawData = img.load()\n",
    "    data = []\n",
    "    for y in range(28):\n",
    "        for x in range(28):\n",
    "            data.append(rawData[x,y][0])\n",
    "    k = 0\n",
    "        #print data\n",
    "    train_data.loc[i] = [data[k] for k in range(784)]\n",
    "    #print train_data.loc[0]"
   ]
  },
  {
   "cell_type": "code",
   "execution_count": 21,
   "metadata": {},
   "outputs": [],
   "source": [
    "train_data.reset_index(inplace=True)"
   ]
  },
  {
   "cell_type": "code",
   "execution_count": 22,
   "metadata": {},
   "outputs": [],
   "source": [
    "train_data['label_1'] = pd.Series()\n",
    "for i in range(0,5):\n",
    "    train_data.loc[i,'label_1'] = 4\n",
    "    \n",
    "for i in range(5,10):\n",
    "    train_data.loc[i,'label_1'] = 3\n",
    "    \n",
    "for i in range(10,14):\n",
    "    train_data.loc[i,'label_1'] = 2\n",
    "\n",
    "for i in range(14,19):\n",
    "    train_data.loc[i,'label_1'] = 1\n",
    "    \n",
    "for i in range(19,25):\n",
    "    train_data.loc[i,'label_1'] = 0"
   ]
  },
  {
   "cell_type": "code",
   "execution_count": 23,
   "metadata": {},
   "outputs": [],
   "source": [
    "import os,array\n",
    "import pandas as pd\n",
    "os.chdir('/Users/matthewvitha/Desktop/ml_final')\n",
    "import time\n",
    "\n",
    "from PIL import Image\n",
    "columnNames = list()\n",
    "\n",
    "for i in range(784):\n",
    "    pixel = 'pixel'\n",
    "    pixel += str(i)\n",
    "    columnNames.append(pixel)\n",
    "\n",
    "\n",
    "train_data1 = pd.DataFrame(columns = columnNames)\n",
    "start_time = time.time()\n",
    "for i in range(585,610):\n",
    "    t = i\n",
    "    img_name = \"IMG_2\"+str(t)+'.JPG'\n",
    "    img = Image.open(img_name)\n",
    "    rawData = img.load()\n",
    "    data = []\n",
    "    for y in range(28):\n",
    "        for x in range(28):\n",
    "            data.append(rawData[x,y][0])\n",
    "    k = 0\n",
    "        #print data\n",
    "    train_data1.loc[i] = [data[k] for k in range(784)]\n",
    "    #print train_data.loc[0]"
   ]
  },
  {
   "cell_type": "code",
   "execution_count": 24,
   "metadata": {},
   "outputs": [],
   "source": [
    "train_data1.reset_index(inplace=True)"
   ]
  },
  {
   "cell_type": "code",
   "execution_count": 25,
   "metadata": {},
   "outputs": [],
   "source": [
    "train_data1['label_1'] = pd.Series()\n",
    "for i in range(0,5):\n",
    "    train_data1.loc[i,'label_1'] = 5\n",
    "    \n",
    "for i in range(5,10):\n",
    "    train_data1.loc[i,'label_1'] = 6\n",
    "    \n",
    "for i in range(10,15):\n",
    "    train_data1.loc[i,'label_1'] = 7\n",
    "\n",
    "for i in range(15,20):\n",
    "    train_data1.loc[i,'label_1'] = 8\n",
    "    \n",
    "for i in range(20,25):\n",
    "    train_data1.loc[i,'label_1'] = 9"
   ]
  },
  {
   "cell_type": "code",
   "execution_count": 26,
   "metadata": {},
   "outputs": [],
   "source": [
    "new_test = pd.concat([train_data,train_data1],ignore_index=True)"
   ]
  },
  {
   "cell_type": "code",
   "execution_count": 27,
   "metadata": {},
   "outputs": [],
   "source": [
    "new_test.drop('index',axis=1,inplace=True)"
   ]
  },
  {
   "cell_type": "code",
   "execution_count": 28,
   "metadata": {},
   "outputs": [
    {
     "data": {
      "text/html": [
       "<div>\n",
       "<style scoped>\n",
       "    .dataframe tbody tr th:only-of-type {\n",
       "        vertical-align: middle;\n",
       "    }\n",
       "\n",
       "    .dataframe tbody tr th {\n",
       "        vertical-align: top;\n",
       "    }\n",
       "\n",
       "    .dataframe thead th {\n",
       "        text-align: right;\n",
       "    }\n",
       "</style>\n",
       "<table border=\"1\" class=\"dataframe\">\n",
       "  <thead>\n",
       "    <tr style=\"text-align: right;\">\n",
       "      <th></th>\n",
       "      <th>pixel0</th>\n",
       "      <th>pixel1</th>\n",
       "      <th>pixel2</th>\n",
       "      <th>pixel3</th>\n",
       "      <th>pixel4</th>\n",
       "      <th>pixel5</th>\n",
       "      <th>pixel6</th>\n",
       "      <th>pixel7</th>\n",
       "      <th>pixel8</th>\n",
       "      <th>pixel9</th>\n",
       "      <th>...</th>\n",
       "      <th>pixel775</th>\n",
       "      <th>pixel776</th>\n",
       "      <th>pixel777</th>\n",
       "      <th>pixel778</th>\n",
       "      <th>pixel779</th>\n",
       "      <th>pixel780</th>\n",
       "      <th>pixel781</th>\n",
       "      <th>pixel782</th>\n",
       "      <th>pixel783</th>\n",
       "      <th>label_1</th>\n",
       "    </tr>\n",
       "  </thead>\n",
       "  <tbody>\n",
       "    <tr>\n",
       "      <td>0</td>\n",
       "      <td>23</td>\n",
       "      <td>21</td>\n",
       "      <td>18</td>\n",
       "      <td>15</td>\n",
       "      <td>14</td>\n",
       "      <td>15</td>\n",
       "      <td>17</td>\n",
       "      <td>18</td>\n",
       "      <td>23</td>\n",
       "      <td>21</td>\n",
       "      <td>...</td>\n",
       "      <td>169</td>\n",
       "      <td>169</td>\n",
       "      <td>169</td>\n",
       "      <td>168</td>\n",
       "      <td>167</td>\n",
       "      <td>168</td>\n",
       "      <td>168</td>\n",
       "      <td>168</td>\n",
       "      <td>168</td>\n",
       "      <td>4.0</td>\n",
       "    </tr>\n",
       "    <tr>\n",
       "      <td>1</td>\n",
       "      <td>103</td>\n",
       "      <td>90</td>\n",
       "      <td>78</td>\n",
       "      <td>77</td>\n",
       "      <td>71</td>\n",
       "      <td>47</td>\n",
       "      <td>92</td>\n",
       "      <td>121</td>\n",
       "      <td>89</td>\n",
       "      <td>80</td>\n",
       "      <td>...</td>\n",
       "      <td>151</td>\n",
       "      <td>151</td>\n",
       "      <td>152</td>\n",
       "      <td>153</td>\n",
       "      <td>153</td>\n",
       "      <td>153</td>\n",
       "      <td>153</td>\n",
       "      <td>154</td>\n",
       "      <td>155</td>\n",
       "      <td>4.0</td>\n",
       "    </tr>\n",
       "    <tr>\n",
       "      <td>2</td>\n",
       "      <td>13</td>\n",
       "      <td>13</td>\n",
       "      <td>14</td>\n",
       "      <td>13</td>\n",
       "      <td>12</td>\n",
       "      <td>11</td>\n",
       "      <td>11</td>\n",
       "      <td>12</td>\n",
       "      <td>12</td>\n",
       "      <td>10</td>\n",
       "      <td>...</td>\n",
       "      <td>147</td>\n",
       "      <td>146</td>\n",
       "      <td>146</td>\n",
       "      <td>146</td>\n",
       "      <td>147</td>\n",
       "      <td>150</td>\n",
       "      <td>150</td>\n",
       "      <td>151</td>\n",
       "      <td>152</td>\n",
       "      <td>4.0</td>\n",
       "    </tr>\n",
       "  </tbody>\n",
       "</table>\n",
       "<p>3 rows × 785 columns</p>\n",
       "</div>"
      ],
      "text/plain": [
       "  pixel0 pixel1 pixel2 pixel3 pixel4 pixel5 pixel6 pixel7 pixel8 pixel9  ...  \\\n",
       "0     23     21     18     15     14     15     17     18     23     21  ...   \n",
       "1    103     90     78     77     71     47     92    121     89     80  ...   \n",
       "2     13     13     14     13     12     11     11     12     12     10  ...   \n",
       "\n",
       "  pixel775 pixel776 pixel777 pixel778 pixel779 pixel780 pixel781 pixel782  \\\n",
       "0      169      169      169      168      167      168      168      168   \n",
       "1      151      151      152      153      153      153      153      154   \n",
       "2      147      146      146      146      147      150      150      151   \n",
       "\n",
       "  pixel783 label_1  \n",
       "0      168     4.0  \n",
       "1      155     4.0  \n",
       "2      152     4.0  \n",
       "\n",
       "[3 rows x 785 columns]"
      ]
     },
     "execution_count": 28,
     "metadata": {},
     "output_type": "execute_result"
    }
   ],
   "source": [
    "new_test.head(3)"
   ]
  },
  {
   "cell_type": "code",
   "execution_count": 29,
   "metadata": {},
   "outputs": [],
   "source": [
    "X_new_test = new_test.drop('label_1',axis=1)\n",
    "X_new_test = np.array(X_new_test.astype(float) / 255.)\n",
    "Y_new_test = np.array(new_test['label_1'].astype(int))"
   ]
  },
  {
   "cell_type": "code",
   "execution_count": null,
   "metadata": {},
   "outputs": [],
   "source": []
  },
  {
   "cell_type": "code",
   "execution_count": 30,
   "metadata": {},
   "outputs": [],
   "source": [
    "import numpy as np\n",
    "import pandas as pd\n",
    "train = pd.read_csv('/Users/matthewvitha/Downloads/mnist_train.csv')\n",
    "new_column_name = ['label']\n",
    "for num in range(train.shape[1]-1):\n",
    "    tem = 'pixel' + str(num)\n",
    "    new_column_name.append(tem)\n",
    "\n",
    "train.columns = new_column_name"
   ]
  },
  {
   "cell_type": "code",
   "execution_count": 31,
   "metadata": {},
   "outputs": [],
   "source": [
    "train_result = train[\"label\"]  # dependent variable\n",
    "train_predictors = train.drop([\"label\"], axis = 1)"
   ]
  },
  {
   "cell_type": "code",
   "execution_count": 32,
   "metadata": {},
   "outputs": [],
   "source": [
    "from sklearn.preprocessing import StandardScaler\n",
    "train_predictors = StandardScaler().fit_transform(train_predictors)\n"
   ]
  },
  {
   "cell_type": "code",
   "execution_count": 33,
   "metadata": {},
   "outputs": [
    {
     "data": {
      "text/plain": [
       "array([0.05646761, 0.04078298, 0.03739414, 0.02885052, 0.02521136,\n",
       "       0.02194323, 0.0192337 , 0.01745816, 0.01535114, 0.01401742,\n",
       "       0.01341763, 0.01203764, 0.01114599, 0.01089834, 0.01028642,\n",
       "       0.009945  , 0.00936284, 0.00920994, 0.00893478, 0.00869891,\n",
       "       0.00827327, 0.00803427, 0.00764871, 0.0074178 , 0.00715293,\n",
       "       0.00691892, 0.00684142, 0.00656657, 0.00631685, 0.00612926,\n",
       "       0.00596263, 0.00587727, 0.00571594, 0.00562342, 0.00554692,\n",
       "       0.00538405, 0.00531189, 0.0051961 , 0.00508215, 0.00480018,\n",
       "       0.00476456, 0.00469136, 0.00454342, 0.00451349, 0.00446967,\n",
       "       0.00443387, 0.0043822 , 0.00430391, 0.00426865, 0.0042365 ,\n",
       "       0.00404688, 0.00399448, 0.00397459, 0.00393827, 0.00385815,\n",
       "       0.00379041, 0.00375402, 0.00370779, 0.00364945, 0.00359292,\n",
       "       0.00352384, 0.00347796, 0.00344412, 0.00339873, 0.00335956,\n",
       "       0.00334887, 0.00331858, 0.00323031, 0.00316276, 0.00313248,\n",
       "       0.0031074 , 0.00307244, 0.00304897, 0.0030272 , 0.00299482,\n",
       "       0.00297761, 0.00295051, 0.00290436, 0.00286843, 0.00285679,\n",
       "       0.00283355, 0.00282629, 0.00279551, 0.00279305, 0.00278519,\n",
       "       0.00277439, 0.00275901, 0.00274224, 0.00271411, 0.00269262,\n",
       "       0.00266485, 0.00263585, 0.00262963, 0.00261034, 0.00258829,\n",
       "       0.00256162, 0.00253846, 0.00250449, 0.00247829, 0.00245041,\n",
       "       0.00242343, 0.00242066, 0.00238844, 0.00237457, 0.00235613,\n",
       "       0.00233065, 0.00227975, 0.00226176, 0.00222832, 0.00222443,\n",
       "       0.00218171, 0.0021726 , 0.00214277, 0.00211937, 0.00210974,\n",
       "       0.00207333, 0.00204763, 0.0020436 , 0.0020241 , 0.00200455,\n",
       "       0.00198822, 0.00195217, 0.00193739, 0.00192112, 0.00191719,\n",
       "       0.00189799, 0.00187094, 0.00186527, 0.00181321, 0.00180005,\n",
       "       0.00179196, 0.00178967, 0.00176949, 0.00176156, 0.00174798,\n",
       "       0.00172982, 0.00172018, 0.00168728, 0.00168518, 0.00166843,\n",
       "       0.00164721, 0.00164575, 0.00164297, 0.00161486, 0.00160493,\n",
       "       0.00158912, 0.00157489, 0.00155918, 0.00155639, 0.00154654,\n",
       "       0.00154042, 0.00151595, 0.00150269, 0.00148761, 0.00147507,\n",
       "       0.0014682 , 0.00145805, 0.00145569, 0.0014473 , 0.00142888,\n",
       "       0.00141057, 0.00139938, 0.00139708, 0.00139533, 0.00139355,\n",
       "       0.00139223, 0.00138774, 0.0013834 , 0.00137816, 0.00136845,\n",
       "       0.00136159, 0.00135821, 0.00133703, 0.00132891, 0.0013106 ,\n",
       "       0.00130291, 0.0012932 , 0.00128228, 0.00127406, 0.0012682 ,\n",
       "       0.00125322, 0.00124047, 0.00122985, 0.00121619, 0.00121506,\n",
       "       0.00120004, 0.0011909 , 0.0011889 , 0.00117607, 0.00116757,\n",
       "       0.00116234, 0.00114797, 0.00113704, 0.00112716, 0.00112058,\n",
       "       0.00109408, 0.00108542, 0.00107028, 0.00106402, 0.00105475,\n",
       "       0.00104631, 0.00103601, 0.00103267, 0.00102075, 0.00100822,\n",
       "       0.00100158, 0.00099784, 0.00099192, 0.00097727, 0.00096844,\n",
       "       0.00095803, 0.00095633, 0.00094772, 0.00094645, 0.0009436 ,\n",
       "       0.00092674, 0.00091735, 0.0009087 , 0.00089743, 0.00089155,\n",
       "       0.00088778, 0.00087888, 0.00086913, 0.00086208, 0.00086052,\n",
       "       0.00084534, 0.00084006, 0.00083568, 0.00082397, 0.00082075,\n",
       "       0.00081293, 0.00081013, 0.00079193, 0.0007832 , 0.00077869,\n",
       "       0.00077147, 0.00076634, 0.00075006, 0.00074344, 0.00073893,\n",
       "       0.00073237, 0.000727  , 0.00072546, 0.00071664, 0.00071096,\n",
       "       0.00070243, 0.00069439, 0.00069394, 0.00067934, 0.00067818,\n",
       "       0.00067631, 0.00067126, 0.00066314, 0.00065473, 0.00065164,\n",
       "       0.00064422, 0.00064111, 0.00063615, 0.00063194, 0.00062757,\n",
       "       0.00062393, 0.00061994, 0.00060881, 0.00060535, 0.00059821,\n",
       "       0.0005911 , 0.00058337, 0.0005802 , 0.00057484, 0.00057193,\n",
       "       0.00056915, 0.00056339, 0.00055822, 0.00055624, 0.0005511 ,\n",
       "       0.0005493 , 0.00054409, 0.00053987, 0.00053803, 0.00053183,\n",
       "       0.00052878, 0.00052527, 0.00052084, 0.00051754, 0.00051345,\n",
       "       0.00050742, 0.00050518, 0.00050175, 0.00049974, 0.00049579,\n",
       "       0.00049098, 0.00048095, 0.00047857, 0.00047571, 0.00047439,\n",
       "       0.00046924, 0.00046473, 0.00045734, 0.0004542 , 0.00044694,\n",
       "       0.00044317, 0.00044043, 0.00043649, 0.00043431, 0.00043019,\n",
       "       0.000428  , 0.00042149, 0.00041928, 0.00041596, 0.00041134,\n",
       "       0.00040992, 0.00040474, 0.00040374, 0.00040051, 0.00039596,\n",
       "       0.00039454, 0.00038844, 0.00038556, 0.00038464, 0.00038034,\n",
       "       0.00037893, 0.00037525, 0.00037383, 0.00037034, 0.00036943,\n",
       "       0.00036196, 0.00035783, 0.00035369, 0.00035199, 0.00034964,\n",
       "       0.00034716, 0.00034446, 0.00033751, 0.00033275, 0.00033266,\n",
       "       0.00032922, 0.00032743, 0.00032174, 0.00031786, 0.000316  ,\n",
       "       0.00031457, 0.00031244, 0.00030764, 0.00030482, 0.00030125,\n",
       "       0.0003007 , 0.00029924, 0.00029253, 0.00028902, 0.00028728])"
      ]
     },
     "execution_count": 33,
     "metadata": {},
     "output_type": "execute_result"
    }
   ],
   "source": [
    "# Get top 350 PCA components\n",
    "from sklearn.decomposition import PCA\n",
    "n_components = 350\n",
    "pca = PCA(n_components=350).fit(train_predictors)\n",
    "pca.explained_variance_ratio_"
   ]
  },
  {
   "cell_type": "code",
   "execution_count": 34,
   "metadata": {},
   "outputs": [],
   "source": [
    "train_img = pca.transform(train_predictors)\n",
    "test_img = pca.transform(X_new_test)"
   ]
  },
  {
   "cell_type": "code",
   "execution_count": 35,
   "metadata": {},
   "outputs": [],
   "source": [
    "from sklearn.preprocessing import StandardScaler\n",
    "train_predictors = StandardScaler().fit_transform(train_img)\n",
    "test_predictors = StandardScaler().fit_transform(test_img)"
   ]
  },
  {
   "cell_type": "markdown",
   "metadata": {},
   "source": [
    "# PCA On New Test Data, Logistic Regression"
   ]
  },
  {
   "cell_type": "code",
   "execution_count": 36,
   "metadata": {},
   "outputs": [
    {
     "name": "stderr",
     "output_type": "stream",
     "text": [
      "/anaconda3/lib/python3.7/site-packages/sklearn/linear_model/logistic.py:469: FutureWarning: Default multi_class will be changed to 'auto' in 0.22. Specify the multi_class option to silence this warning.\n",
      "  \"this warning.\", FutureWarning)\n",
      "/anaconda3/lib/python3.7/site-packages/sklearn/linear_model/logistic.py:947: ConvergenceWarning: lbfgs failed to converge. Increase the number of iterations.\n",
      "  \"of iterations.\", ConvergenceWarning)\n",
      "/anaconda3/lib/python3.7/site-packages/sklearn/linear_model/logistic.py:947: ConvergenceWarning: lbfgs failed to converge. Increase the number of iterations.\n",
      "  \"of iterations.\", ConvergenceWarning)\n",
      "/anaconda3/lib/python3.7/site-packages/sklearn/linear_model/logistic.py:947: ConvergenceWarning: lbfgs failed to converge. Increase the number of iterations.\n",
      "  \"of iterations.\", ConvergenceWarning)\n",
      "/anaconda3/lib/python3.7/site-packages/sklearn/linear_model/logistic.py:947: ConvergenceWarning: lbfgs failed to converge. Increase the number of iterations.\n",
      "  \"of iterations.\", ConvergenceWarning)\n",
      "/anaconda3/lib/python3.7/site-packages/sklearn/linear_model/logistic.py:947: ConvergenceWarning: lbfgs failed to converge. Increase the number of iterations.\n",
      "  \"of iterations.\", ConvergenceWarning)\n",
      "/anaconda3/lib/python3.7/site-packages/sklearn/linear_model/logistic.py:947: ConvergenceWarning: lbfgs failed to converge. Increase the number of iterations.\n",
      "  \"of iterations.\", ConvergenceWarning)\n",
      "/anaconda3/lib/python3.7/site-packages/sklearn/linear_model/logistic.py:947: ConvergenceWarning: lbfgs failed to converge. Increase the number of iterations.\n",
      "  \"of iterations.\", ConvergenceWarning)\n",
      "/anaconda3/lib/python3.7/site-packages/sklearn/linear_model/logistic.py:947: ConvergenceWarning: lbfgs failed to converge. Increase the number of iterations.\n",
      "  \"of iterations.\", ConvergenceWarning)\n",
      "/anaconda3/lib/python3.7/site-packages/sklearn/linear_model/logistic.py:947: ConvergenceWarning: lbfgs failed to converge. Increase the number of iterations.\n",
      "  \"of iterations.\", ConvergenceWarning)\n",
      "/anaconda3/lib/python3.7/site-packages/sklearn/linear_model/logistic.py:947: ConvergenceWarning: lbfgs failed to converge. Increase the number of iterations.\n",
      "  \"of iterations.\", ConvergenceWarning)\n"
     ]
    },
    {
     "data": {
      "text/plain": [
       "LogisticRegression(C=1.0, class_weight=None, dual=False, fit_intercept=True,\n",
       "                   intercept_scaling=1, l1_ratio=None, max_iter=100,\n",
       "                   multi_class='warn', n_jobs=None, penalty='l2',\n",
       "                   random_state=None, solver='lbfgs', tol=0.0001, verbose=0,\n",
       "                   warm_start=False)"
      ]
     },
     "execution_count": 36,
     "metadata": {},
     "output_type": "execute_result"
    }
   ],
   "source": [
    "from sklearn.linear_model import LogisticRegression\n",
    "\n",
    "logisticRegr = LogisticRegression(solver = 'lbfgs')\n",
    "logisticRegr.fit(train_predictors, train_result)"
   ]
  },
  {
   "cell_type": "code",
   "execution_count": 37,
   "metadata": {},
   "outputs": [
    {
     "name": "stdout",
     "output_type": "stream",
     "text": [
      "0.02\n"
     ]
    }
   ],
   "source": [
    "predictions = logisticRegr.predict(test_predictors)\n",
    "score = logisticRegr.score(test_predictors, Y_new_test)\n",
    "print(score)"
   ]
  },
  {
   "cell_type": "markdown",
   "metadata": {},
   "source": [
    "# SVM on PCA New Test Data "
   ]
  },
  {
   "cell_type": "code",
   "execution_count": 40,
   "metadata": {},
   "outputs": [],
   "source": [
    "from sklearn.svm import SVC\n",
    "from sklearn.preprocessing import StandardScaler\n",
    "from sklearn.pipeline import Pipeline\n",
    "from sklearn.model_selection import GridSearchCV\n",
    "from sklearn.model_selection import train_test_split\n",
    "from sklearn.metrics import accuracy_score, confusion_matrix"
   ]
  },
  {
   "cell_type": "code",
   "execution_count": 41,
   "metadata": {},
   "outputs": [],
   "source": [
    "steps = [('scaler', StandardScaler()), ('SVM', SVC(kernel='poly'))]\n",
    "parameters = {'SVM__C':[0.001], 'SVM__gamma':[10]}\n",
    "pipeline = Pipeline(steps)"
   ]
  },
  {
   "cell_type": "code",
   "execution_count": 42,
   "metadata": {},
   "outputs": [
    {
     "name": "stdout",
     "output_type": "stream",
     "text": [
      "score = 0.06\n"
     ]
    }
   ],
   "source": [
    "grid = GridSearchCV(pipeline, param_grid=parameters, cv=3)\n",
    "grid.fit(train_predictors[0:5000], train_result[0:5000])\n",
    "\n",
    "print(\"score = %3.2f\" %(grid.score(test_predictors, Y_new_test)))"
   ]
  },
  {
   "cell_type": "code",
   "execution_count": null,
   "metadata": {},
   "outputs": [],
   "source": []
  },
  {
   "cell_type": "markdown",
   "metadata": {},
   "source": [
    "# Decision tree on new PCA test data"
   ]
  },
  {
   "cell_type": "code",
   "execution_count": 43,
   "metadata": {},
   "outputs": [],
   "source": [
    "from sklearn import tree\n",
    "from sklearn import metrics"
   ]
  },
  {
   "cell_type": "code",
   "execution_count": 44,
   "metadata": {},
   "outputs": [],
   "source": [
    "clf = tree.DecisionTreeClassifier(criterion=\"gini\", max_depth=32, max_features=349)\n",
    "clf = clf.fit(train_predictors, train_result)"
   ]
  },
  {
   "cell_type": "code",
   "execution_count": 45,
   "metadata": {},
   "outputs": [
    {
     "name": "stdout",
     "output_type": "stream",
     "text": [
      "              precision    recall  f1-score   support\n",
      "\n",
      "           0     0.2000    0.5000    0.2857         6\n",
      "           1     0.0000    0.0000    0.0000         5\n",
      "           2     0.0909    0.2500    0.1333         4\n",
      "           3     0.0000    0.0000    0.0000         5\n",
      "           4     0.0000    0.0000    0.0000         5\n",
      "           5     0.0000    0.0000    0.0000         5\n",
      "           6     0.3333    0.4000    0.3636         5\n",
      "           7     0.1250    0.2000    0.1538         5\n",
      "           8     0.0000    0.0000    0.0000         5\n",
      "           9     0.0000    0.0000    0.0000         5\n",
      "\n",
      "    accuracy                         0.1400        50\n",
      "   macro avg     0.0749    0.1350    0.0937        50\n",
      "weighted avg     0.0771    0.1400    0.0967        50\n",
      "\n"
     ]
    },
    {
     "name": "stderr",
     "output_type": "stream",
     "text": [
      "/anaconda3/lib/python3.7/site-packages/sklearn/metrics/classification.py:1437: UndefinedMetricWarning: Precision and F-score are ill-defined and being set to 0.0 in labels with no predicted samples.\n",
      "  'precision', 'predicted', average, warn_for)\n"
     ]
    }
   ],
   "source": [
    "predictionRes = clf.predict(test_predictors)\n",
    "print(metrics.classification_report(Y_new_test.tolist(), predictionRes, digits=4))\n"
   ]
  },
  {
   "cell_type": "code",
   "execution_count": 47,
   "metadata": {},
   "outputs": [
    {
     "name": "stdout",
     "output_type": "stream",
     "text": [
      "[0.10344828 0.14285714]\n",
      "Accuracy: 0.12 (+/- 0.01)\n"
     ]
    }
   ],
   "source": [
    "from sklearn.model_selection import cross_validate\n",
    "from sklearn.model_selection import KFold\n",
    "from sklearn.model_selection import cross_val_score\n",
    "scores = cross_val_score(clf, test_predictors, Y_new_test.tolist(), cv=2)\n",
    "print(scores)\n",
    "print(\"Accuracy: %0.2f (+/- %0.2f)\" % (scores.mean(), scores.std() / 2))"
   ]
  },
  {
   "cell_type": "code",
   "execution_count": null,
   "metadata": {},
   "outputs": [],
   "source": []
  },
  {
   "cell_type": "markdown",
   "metadata": {},
   "source": [
    "# Random Forest On New Test Data, PCA "
   ]
  },
  {
   "cell_type": "code",
   "execution_count": 48,
   "metadata": {},
   "outputs": [],
   "source": [
    "from sklearn import model_selection\n",
    "from sklearn.ensemble import RandomForestClassifier\n",
    "\n",
    "rfc_params = RandomForestClassifier(n_estimators=800, max_depth=100, max_features='sqrt',min_samples_split=5,min_samples_leaf=1,bootstrap=False)\n",
    "rfc_params.fit(train_predictors,train_result)\n",
    "rfc_params_predict = rfc_params.predict(test_predictors)"
   ]
  },
  {
   "cell_type": "code",
   "execution_count": 49,
   "metadata": {},
   "outputs": [
    {
     "name": "stdout",
     "output_type": "stream",
     "text": [
      "              precision    recall  f1-score   support\n",
      "\n",
      "           0       0.00      0.00      0.00         6\n",
      "           1       0.00      0.00      0.00         5\n",
      "           2       0.08      0.25      0.12         4\n",
      "           3       1.00      0.20      0.33         5\n",
      "           4       0.00      0.00      0.00         5\n",
      "           5       0.00      0.00      0.00         5\n",
      "           6       0.00      0.00      0.00         5\n",
      "           7       0.00      0.00      0.00         5\n",
      "           8       0.00      0.00      0.00         5\n",
      "           9       0.00      0.00      0.00         5\n",
      "\n",
      "    accuracy                           0.04        50\n",
      "   macro avg       0.11      0.04      0.05        50\n",
      "weighted avg       0.11      0.04      0.04        50\n",
      "\n"
     ]
    },
    {
     "name": "stderr",
     "output_type": "stream",
     "text": [
      "/anaconda3/lib/python3.7/site-packages/sklearn/metrics/classification.py:1437: UndefinedMetricWarning: Precision and F-score are ill-defined and being set to 0.0 in labels with no predicted samples.\n",
      "  'precision', 'predicted', average, warn_for)\n"
     ]
    }
   ],
   "source": [
    "from sklearn.metrics import classification_report, confusion_matrix\n",
    "\n",
    "print(classification_report(Y_new_test, rfc_params_predict))\n"
   ]
  },
  {
   "cell_type": "code",
   "execution_count": null,
   "metadata": {},
   "outputs": [],
   "source": []
  }
 ],
 "metadata": {
  "kernelspec": {
   "display_name": "Python 3",
   "language": "python",
   "name": "python3"
  },
  "language_info": {
   "codemirror_mode": {
    "name": "ipython",
    "version": 3
   },
   "file_extension": ".py",
   "mimetype": "text/x-python",
   "name": "python",
   "nbconvert_exporter": "python",
   "pygments_lexer": "ipython3",
   "version": "3.7.3"
  }
 },
 "nbformat": 4,
 "nbformat_minor": 2
}
