{
 "cells": [
  {
   "cell_type": "code",
   "execution_count": 3,
   "metadata": {},
   "outputs": [],
   "source": [
    "import tensorflow as tf\n",
    "from tensorflow.python.keras.preprocessing.text import Tokenizer\n",
    "from tensorflow.python.keras.layers import Dense, Embedding, Input, Add, Dot, Reshape, Flatten\n",
    "from tensorflow.python.keras.optimizers import Adam\n",
    "from tensorflow.python.keras.preprocessing.sequence import skipgrams\n",
    "from tensorflow.python.keras.models import Model, load_model\n",
    "import pickle\n",
    "import tarfile\n",
    "from urllib.request import urlretrieve\n",
    "import os\n",
    "import nltk\n",
    "from scipy.sparse import csr_matrix, lil_matrix\n",
    "import numpy as np\n",
    "from scipy.sparse import save_npz, load_npz\n",
    "from tensorflow.python.keras import backend as K\n",
    "import random\n",
    "import matplotlib.pyplot as plt\n",
    "from tensorflow.python.keras.utils import plot_model\n",
    "import pandas as pd\n",
    "%matplotlib inline"
   ]
  },
  {
   "cell_type": "code",
   "execution_count": 4,
   "metadata": {},
   "outputs": [],
   "source": [
    "with open('nyt_markets_df_bert_sim.pickle', 'rb') as dff:\n",
    "    nyt_markets_df_bertsim = pickle.load(dff)"
   ]
  },
  {
   "cell_type": "code",
   "execution_count": 5,
   "metadata": {},
   "outputs": [],
   "source": [
    "docs = nyt_markets_df_bertsim['article_clean_2']"
   ]
  },
  {
   "cell_type": "code",
   "execution_count": 6,
   "metadata": {},
   "outputs": [
    {
     "data": {
      "text/plain": [
       "0        good wednesday want email sign hereboth inside...\n",
       "1        dozens people gathered manhattan rooftop nibbl...\n",
       "2        london  royal dutch shell became latest big en...\n",
       "3        weeks top stories presidential candidates made...\n",
       "5        burg migheizil egypt  raggedy fishing village ...\n",
       "                               ...                        \n",
       "13921    want get briefing email heres signupgood morni...\n",
       "13922    college student early s charles trafton worked...\n",
       "13923    london  outlining first tentative details inte...\n",
       "13924    good wednesday heres were watching facebook re...\n",
       "13925    seoul south korea  president trump struggles d...\n",
       "Name: article_clean_2, Length: 13496, dtype: object"
      ]
     },
     "execution_count": 6,
     "metadata": {},
     "output_type": "execute_result"
    }
   ],
   "source": [
    "docs"
   ]
  },
  {
   "cell_type": "code",
   "execution_count": 7,
   "metadata": {},
   "outputs": [],
   "source": [
    "v_size = 3000\n",
    "tokenizer = Tokenizer(num_words=v_size, oov_token='UNK')\n",
    "tokenizer.fit_on_texts(docs)"
   ]
  },
  {
   "cell_type": "code",
   "execution_count": 8,
   "metadata": {},
   "outputs": [],
   "source": [
    "def generate_cooc_matrix(text, tokenizer, window_size, n_vocab, use_weighting=True):\n",
    "    sequences = tokenizer.texts_to_sequences(text)\n",
    "    \n",
    "    cooc_mat = lil_matrix((n_vocab, n_vocab), dtype=np.float32)\n",
    "    for sequence in sequences:\n",
    "        for i, wi in zip(np.arange(window_size, len(sequence)-window_size), sequence[window_size:-window_size]):\n",
    "            context_window = sequence[i-window_size: i+window_size+1]\n",
    "            distances = np.abs(np.arange(-window_size, window_size+1))\n",
    "            distances[window_size] = 1.0\n",
    "            nom = np.ones(shape=(window_size*2 + 1,), dtype=np.float32)\n",
    "            nom[window_size] = 0.0\n",
    "\n",
    "            if use_weighting:\n",
    "                cooc_mat[wi, context_window] += nom/distances    # Update element\n",
    "            else:\n",
    "                cooc_mat[wi, context_window] += nom\n",
    "    \n",
    "    return cooc_mat"
   ]
  },
  {
   "cell_type": "code",
   "execution_count": 14,
   "metadata": {},
   "outputs": [],
   "source": [
    "cooc_mat = generate_cooc_matrix(docs[0:7500], tokenizer, 4, v_size, True) #around half of data"
   ]
  },
  {
   "cell_type": "code",
   "execution_count": 15,
   "metadata": {},
   "outputs": [
    {
     "data": {
      "text/plain": [
       "<3000x3000 sparse matrix of type '<class 'numpy.float32'>'\n",
       "\twith 4197799 stored elements in LInked List format>"
      ]
     },
     "execution_count": 15,
     "metadata": {},
     "output_type": "execute_result"
    }
   ],
   "source": [
    "cooc_mat"
   ]
  },
  {
   "cell_type": "code",
   "execution_count": 16,
   "metadata": {},
   "outputs": [
    {
     "data": {
      "text/plain": [
       "([<matplotlib.axis.XTick at 0x1a6397c8d0>,\n",
       "  <matplotlib.axis.XTick at 0x1a6397cdd8>,\n",
       "  <matplotlib.axis.XTick at 0x1a6399e978>,\n",
       "  <matplotlib.axis.XTick at 0x1a639a4320>,\n",
       "  <matplotlib.axis.XTick at 0x1a63959e10>,\n",
       "  <matplotlib.axis.XTick at 0x1a63959a90>,\n",
       "  <matplotlib.axis.XTick at 0x1a63a63da0>,\n",
       "  <matplotlib.axis.XTick at 0x1a63a63978>,\n",
       "  <matplotlib.axis.XTick at 0x1a63a63cf8>,\n",
       "  <matplotlib.axis.XTick at 0x1a639f9208>,\n",
       "  <matplotlib.axis.XTick at 0x1a639f98d0>,\n",
       "  <matplotlib.axis.XTick at 0x1a63a50940>,\n",
       "  <matplotlib.axis.XTick at 0x1a63a50a90>,\n",
       "  <matplotlib.axis.XTick at 0x1a63a506a0>,\n",
       "  <matplotlib.axis.XTick at 0x1a639f9b70>,\n",
       "  <matplotlib.axis.XTick at 0x1a63959b70>,\n",
       "  <matplotlib.axis.XTick at 0x1a639f20b8>,\n",
       "  <matplotlib.axis.XTick at 0x1a639f2c18>,\n",
       "  <matplotlib.axis.XTick at 0x1a639fa400>,\n",
       "  <matplotlib.axis.XTick at 0x1a639fa9b0>,\n",
       "  <matplotlib.axis.XTick at 0x1a6376cc18>,\n",
       "  <matplotlib.axis.XTick at 0x1a63905ba8>,\n",
       "  <matplotlib.axis.XTick at 0x1a63905128>,\n",
       "  <matplotlib.axis.XTick at 0x1a63905208>,\n",
       "  <matplotlib.axis.XTick at 0x1a639f2588>],\n",
       " <a list of 25 Text xticklabel objects>)"
      ]
     },
     "execution_count": 16,
     "metadata": {},
     "output_type": "execute_result"
    },
    {
     "data": {
      "image/png": "[encoded data removed]",
      "text/plain": [
       "<Figure size 1152x576 with 1 Axes>"
      ]
     },
     "metadata": {
      "needs_background": "light"
     },
     "output_type": "display_data"
    }
   ],
   "source": [
    "word = 'economy'\n",
    "assert word in tokenizer.word_index, 'Word {} is not in the tokenizer'.format(word)\n",
    "assert tokenizer.word_index[word] <= v_size, 'The word {} is an out of vocabuary word. Please try something else'.format(word)\n",
    "\n",
    "rev_word_index = dict(zip(tokenizer.word_index.values(), tokenizer.word_index.keys()))\n",
    "\n",
    "cooc_vec = np.array(cooc_mat.getrow(tokenizer.word_index[word]).todense()).ravel()\n",
    "max_ind = np.argsort(cooc_vec)[-25:]\n",
    "#print(max_ind)\n",
    "plt.figure(figsize=(16,8))\n",
    "plt.bar(np.arange(0, 25), cooc_vec[max_ind])\n",
    "plt.xticks(ticks=np.arange(0, 25), labels=[rev_word_index[i] for i in max_ind], rotation=60)"
   ]
  },
  {
   "cell_type": "code",
   "execution_count": 17,
   "metadata": {},
   "outputs": [],
   "source": [
    "pickle.dump(cooc_mat, open('nyt_markets_glove_cooc_mat.pickle', 'wb'))"
   ]
  },
  {
   "cell_type": "code",
   "execution_count": 18,
   "metadata": {},
   "outputs": [],
   "source": [
    "with open('nyt_markets_glove_cooc_mat.pickle', 'rb') as cooc:\n",
    "    cooc_mat = pickle.load(cooc)"
   ]
  },
  {
   "cell_type": "code",
   "execution_count": 19,
   "metadata": {},
   "outputs": [
    {
     "data": {
      "text/plain": [
       "<3000x3000 sparse matrix of type '<class 'numpy.float32'>'\n",
       "\twith 4197799 stored elements in LInked List format>"
      ]
     },
     "execution_count": 19,
     "metadata": {},
     "output_type": "execute_result"
    }
   ],
   "source": [
    "cooc_mat"
   ]
  },
  {
   "cell_type": "code",
   "execution_count": 20,
   "metadata": {},
   "outputs": [],
   "source": [
    "def create_glove_model(v_size):\n",
    "    \n",
    "    w_i = Input(shape=(1,))\n",
    "    w_j = Input(shape=(1,))\n",
    "\n",
    "    emb_i = Flatten()(Embedding(v_size, 96, input_length=1)(w_i))\n",
    "    emb_j = Flatten()(Embedding(v_size, 96, input_length=1)(w_j))\n",
    "\n",
    "    ij_dot = Dot(axes=-1)([emb_i,emb_j])\n",
    "    \n",
    "    b_i = Flatten()(\n",
    "        Embedding(v_size, 1, input_length=1)(w_i)\n",
    "    )\n",
    "    b_j = Flatten()(\n",
    "        Embedding(v_size, 1, input_length=1)(w_j)\n",
    "    )\n",
    "\n",
    "    pred = Add()([ij_dot, b_i, b_j])\n",
    "\n",
    "    def glove_loss(y_true, y_pred):\n",
    "        return K.sum(\n",
    "            K.pow((y_true-1)/100.0, 0.75)*K.square(y_pred - K.log(y_true))\n",
    "        )\n",
    "\n",
    "    model = Model(inputs=[w_i, w_j],outputs=pred)\n",
    "    model.compile(loss=glove_loss, optimizer =Adam(lr=0.0001))\n",
    "    return model"
   ]
  },
  {
   "cell_type": "code",
   "execution_count": 21,
   "metadata": {},
   "outputs": [
    {
     "name": "stdout",
     "output_type": "stream",
     "text": [
      "Model: \"model\"\n",
      "__________________________________________________________________________________________________\n",
      "Layer (type)                    Output Shape         Param #     Connected to                     \n",
      "==================================================================================================\n",
      "input_1 (InputLayer)            [(None, 1)]          0                                            \n",
      "__________________________________________________________________________________________________\n",
      "input_2 (InputLayer)            [(None, 1)]          0                                            \n",
      "__________________________________________________________________________________________________\n",
      "embedding (Embedding)           (None, 1, 96)        288000      input_1[0][0]                    \n",
      "__________________________________________________________________________________________________\n",
      "embedding_1 (Embedding)         (None, 1, 96)        288000      input_2[0][0]                    \n",
      "__________________________________________________________________________________________________\n",
      "flatten (Flatten)               (None, 96)           0           embedding[0][0]                  \n",
      "__________________________________________________________________________________________________\n",
      "flatten_1 (Flatten)             (None, 96)           0           embedding_1[0][0]                \n",
      "__________________________________________________________________________________________________\n",
      "embedding_2 (Embedding)         (None, 1, 1)         3000        input_1[0][0]                    \n",
      "__________________________________________________________________________________________________\n",
      "embedding_3 (Embedding)         (None, 1, 1)         3000        input_2[0][0]                    \n",
      "__________________________________________________________________________________________________\n",
      "dot (Dot)                       (None, 1)            0           flatten[0][0]                    \n",
      "                                                                 flatten_1[0][0]                  \n",
      "__________________________________________________________________________________________________\n",
      "flatten_2 (Flatten)             (None, 1)            0           embedding_2[0][0]                \n",
      "__________________________________________________________________________________________________\n",
      "flatten_3 (Flatten)             (None, 1)            0           embedding_3[0][0]                \n",
      "__________________________________________________________________________________________________\n",
      "add (Add)                       (None, 1)            0           dot[0][0]                        \n",
      "                                                                 flatten_2[0][0]                  \n",
      "                                                                 flatten_3[0][0]                  \n",
      "==================================================================================================\n",
      "Total params: 582,000\n",
      "Trainable params: 582,000\n",
      "Non-trainable params: 0\n",
      "__________________________________________________________________________________________________\n"
     ]
    }
   ],
   "source": [
    "K.clear_session()\n",
    "model = create_glove_model(v_size)\n",
    "model.summary()"
   ]
  },
  {
   "cell_type": "code",
   "execution_count": 33,
   "metadata": {},
   "outputs": [
    {
     "name": "stdout",
     "output_type": "stream",
     "text": [
      "Loss in epoch 0: 6865.473522808945\n",
      "Loss in epoch 1: 2104.8612342061847\n"
     ]
    }
   ],
   "source": [
    "import scipy\n",
    "cooc_mat_array = cooc_mat.toarray()\n",
    "batch_size =128\n",
    "copy_docs = list(docs[0:100])\n",
    "index2word = dict(zip(tokenizer.word_index.values(), tokenizer.word_index.keys()))\n",
    "\"\"\" Each epoch \"\"\"\n",
    "for ep in range(2):\n",
    "    \n",
    "    #valid_words = get_valid_words(docs, 20, tokenizer)\n",
    "    \n",
    "    random.shuffle(copy_docs)\n",
    "    losses = []\n",
    "    \"\"\" Each document (i.e. movie plot) \"\"\"\n",
    "    for doc in copy_docs:\n",
    "        \n",
    "        seq = tokenizer.texts_to_sequences([doc])[0]\n",
    "\n",
    "        \"\"\" Getting skip-gram data \"\"\"\n",
    "        # Negative samples are automatically sampled by tf loss function\n",
    "        wpairs, labels = skipgrams(\n",
    "            sequence=seq, vocabulary_size=v_size, negative_samples=0.0, shuffle=True\n",
    "        )\n",
    "        \n",
    "        if len(wpairs)==0:\n",
    "            continue\n",
    "\n",
    "        sg_in, sg_out = zip(*wpairs)\n",
    "        sg_in, sg_out = np.array(sg_in).reshape(-1,1), np.array(sg_out).reshape(-1,1)\n",
    "        x_ij = np.array(cooc_mat_array[sg_in[:,0], sg_out[:,0]]).reshape(-1,1) + 1\n",
    "        #x_ij = np.array(cooc_mat[sg_in[:,0], sg_out[:,0]]).reshape(-1,1) \n",
    "        \n",
    "        assert np.all(np.array(labels)==1)\n",
    "        assert x_ij.shape[0] == sg_in.shape[0], 'X_ij {} shape does not sg_in {}'.format(x_ij.shape, sg_in.shape)\n",
    "        \"\"\" For each batch in the dataset \"\"\"\n",
    "        model.fit([sg_in, sg_out], x_ij, batch_size = batch_size, epochs=1, verbose=0)\n",
    "        l = model.evaluate([sg_in, sg_out], x_ij, batch_size=batch_size, verbose=0)\n",
    "        losses.append(l)\n",
    "    print('Loss in epoch {}: {}'.format(ep, np.mean(losses)))"
   ]
  },
  {
   "cell_type": "code",
   "execution_count": 39,
   "metadata": {},
   "outputs": [],
   "source": [
    "\n",
    "def save_embeddings(model,save_dir, tok, v_size):\n",
    "    \"\"\" Saving data to disk \"\"\"\n",
    "    \n",
    "    # We need to add the 0th index to word list manually\n",
    "    word_list = [\"RESERVED\"]+[tok.index_word[w_i] for w_i in range(1,v_size)]\n",
    "    emb_w_df = None\n",
    "    for layer in model.layers:\n",
    "        if 'embedding' == layer.name or 'embedding_1' == layer.name:\n",
    "            if emb_w_df is None:\n",
    "                emb_w_df = pd.DataFrame(layer.get_weights()[0])\n",
    "            else:\n",
    "                emb_w_df += layer.get_weights()[0]\n",
    "    \n",
    "    emb_w_df.insert(0, \"word\", word_list)\n",
    "            \n",
    "    emb_w_df.to_csv(\n",
    "        os.path.join(save_dir, 'embeddings_w.csv'), index=False, header=None\n",
    "    )\n",
    "    \n",
    "save_embeddings(model, '/Users/matthewvitha/Downloads/glovemodel', tokenizer, v_size)\n",
    "#model.save('glove1_model.h5')"
   ]
  },
  {
   "cell_type": "code",
   "execution_count": 45,
   "metadata": {},
   "outputs": [
    {
     "name": "stdout",
     "output_type": "stream",
     "text": [
      "Loading the word embeddings from the disk\n",
      "Embedding shape: (3000, 96)\n",
      "history: million, UNK, high, see, like\n",
      "trump: UNK, mr, new, company, york\n",
      "UNK: new, mr, trump, time, york\n",
      "trading: UNK, even, said, mr, ms\n",
      "returning: taken, walked, rising, size, australian\n",
      "UNK: new, mr, trump, time, york\n",
      "UNK: new, mr, trump, time, york\n",
      "holdings: seen, need, change, local, onto\n",
      "ryan: inside, today, state, get, director\n",
      "UNK: new, mr, trump, time, york\n",
      "UNK: new, mr, trump, time, york\n",
      "saying: UNK, world, like, prices, also\n",
      "positions: needed, beijing, center, didnt, bill\n",
      "remain: UNK, briefing, make, see, financial\n",
      "cut: UNK, make, new, back, end\n",
      "UNK: new, mr, trump, time, york\n",
      "protections: fill, st, tried, restrictions, billionaire\n",
      "UNK: new, mr, trump, time, york\n",
      "sources: reach, tech, turned, think, asian\n",
      "UNK: new, mr, trump, time, york\n",
      "countrys: business, percent, UNK, known, however\n",
      "minutes: UNK, month, also, remains, one\n",
      "response: stocks, them, take, days, fuel\n",
      "UNK: new, mr, trump, time, york\n",
      "UNK: new, mr, trump, time, york\n",
      "senate: young, head, today, see, cant\n",
      "UNK: new, mr, trump, time, york\n",
      "UNK: new, mr, trump, time, york\n",
      "prevent: last, first, news, UNK, book\n",
      "silver: advance, payments, sometimes, becoming, room\n",
      "specific: jobs, middle, announced, people, making\n",
      "fair: get, full, want, morning, on\n",
      "drug: heard, became, rather, night, since\n",
      "named: keep, young, kind, sunday, many\n",
      "UNK: new, mr, trump, time, york\n",
      "treasury: years, never, private, chief, travel\n",
      "require: through, lead, today, information, hes\n",
      "years: UNK, said, would, new, time\n",
      "office: UNK, made, one, said, among\n",
      "takeover: th, everyone, weeks, together, former\n",
      "welcome: model, architecture, got, fear, muslim\n",
      "UNK: new, mr, trump, time, york\n",
      "computer: last, markets, UNK, even, york\n",
      "seeking: get, change, new, UNK, money\n",
      "UNK: new, mr, trump, time, york\n",
      "inflation: seemed, said, people, local, east\n",
      "make: UNK, one, system, even, us\n",
      "sexual: men, see, kind, next, investors\n",
      "easier: including, told, europe, time, thats\n",
      "met: UNK, trump, mr, president, political\n",
      "headlines: favorite, already, services, markets, popular\n",
      "healthy: agency, home, first, political, needed\n",
      "auction: day, time, international, world, ago\n",
      "citigroup: fire, studio, artificial, military, trillion\n",
      "billions: heres, school, country, large, also\n",
      "UNK: new, mr, trump, time, york\n",
      "UNK: new, mr, trump, time, york\n",
      "hill: west, open, calling, year, southern\n",
      "UNK: new, mr, trump, time, york\n",
      "hong: even, go, york, UNK, people\n",
      "volatility: yet, includes, york, wouldnt, chinas\n",
      "unemployment: work, well, government, school, change\n",
      "investigation: country, UNK, first, state, system\n",
      "inquiry: single, days, three, fell, data\n",
      "partner: line, see, according, UNK, among\n",
      "kitchen: rather, move, go, business, remains\n",
      "UNK: new, mr, trump, time, york\n",
      "leader: UNK, day, time, see, one\n",
      "lake: long, west, media, back, data\n",
      "called: UNK, financial, president, economic, even\n",
      "UNK: new, mr, trump, time, york\n",
      "lower: UNK, could, become, much, financial\n",
      "chief: UNK, its, trump, new, would\n",
      "right: UNK, new, world, big, a\n",
      "UNK: new, mr, trump, time, york\n",
      "earnings: think, dont, power, UNK, could\n",
      "donald: year, would, even, UNK, way\n",
      "political: UNK, one, financial, day, even\n",
      "last: UNK, new, trumps, also, york\n",
      "getting: one, might, us, UNK, would\n",
      "one: UNK, two, new, back, mr\n",
      "UNK: new, mr, trump, time, york\n",
      "nearly: UNK, president, two, political, trump\n",
      "toll: join, track, friend, conversations, if\n",
      "UNK: new, mr, trump, time, york\n",
      "UNK: new, mr, trump, time, york\n",
      "presidency: obama, times, work, UNK, week\n",
      "wife: UNK, global, put, including, days\n",
      "common: like, recent, felt, two, also\n",
      "particular: became, UNK, range, another, government\n",
      "UNK: new, mr, trump, time, york\n",
      "earnings: think, dont, power, UNK, could\n",
      "long: UNK, new, york, trump, people\n",
      "UNK: new, mr, trump, time, york\n",
      "person: hours, move, state, real, like\n",
      "book: new, york, UNK, every, would\n",
      "milk: senior, defense, saidthe, setting, developers\n",
      "recent: UNK, like, financial, trade, new\n",
      "walmart: cheaper, temporary, francis, investigating, bankruptcy\n",
      "strong: UNK, policy, s, political, even\n"
     ]
    },
    {
     "name": "stderr",
     "output_type": "stream",
     "text": [
      "/anaconda3/lib/python3.7/site-packages/ipykernel_launcher.py:34: FutureWarning: The signature of `Series.to_csv` was aligned to that of `DataFrame.to_csv`, and argument 'header' will change its default value from False to True: please pass an explicit value to suppress this warning.\n"
     ]
    }
   ],
   "source": [
    "def get_valid_words(docs, size, tok):\n",
    "    \"\"\" Get a random set of words to check the embeddings \"\"\"\n",
    "    np.random.seed(100)\n",
    "    valid_docs = np.random.choice(docs, size=size//2)\n",
    "    valid_words = []\n",
    "    for doc in valid_docs:\n",
    "        np.random.seed(100)\n",
    "        words = np.random.choice(tok.texts_to_sequences([doc])[0],size=2)\n",
    "        valid_words.extend(words)\n",
    "        \n",
    "    return valid_words\n",
    "        \n",
    "\n",
    "valid_words = get_valid_words(docs, 100, tokenizer)\n",
    "def load_embeddings(filename):\n",
    "    print('Loading the word embeddings from the disk')\n",
    "    embed_df = pd.read_csv(filename, index_col=False, header=None)\n",
    "    embed_df = embed_df.set_index(0)\n",
    "    print('Embedding shape: {}'.format(embed_df.shape))\n",
    "    embed_mat = embed_df.values\n",
    "    words = embed_df.index.values\n",
    "    return embed_mat, words\n",
    "\n",
    "def get_cosine_sim(emb, valid_words, top_k):\n",
    "    norm = np.sqrt(np.sum(emb**2,axis=1,keepdims=True))\n",
    "    norm_emb = emb/norm\n",
    "    in_emb = norm_emb[valid_words,:]\n",
    "    similarity = np.dot(in_emb, np.transpose(norm_emb))\n",
    "    sorted_ind = np.argsort(-similarity, axis=1)[:,1:top_k+1]\n",
    "    return sorted_ind, valid_words\n",
    "\n",
    "embed_mat, words = load_embeddings(os.path.join('/Users/matthewvitha/Downloads/glovemodel','embeddings_w.csv'))\n",
    "best_ids, wids = get_cosine_sim(embed_mat, valid_words, 5)\n",
    "pd.Series(words).to_csv(os.path.join('/Users/matthewvitha/Downloads/glovemodel','index2word.csv'))\n",
    "for w, bi in zip(wids, best_ids):\n",
    "    print(\"{}: {}\".format(words[w], ', '.join(words[bii] for bii in bi)))"
   ]
  },
  {
   "cell_type": "code",
   "execution_count": null,
   "metadata": {},
   "outputs": [],
   "source": []
  }
 ],
 "metadata": {
  "kernelspec": {
   "display_name": "Python 3",
   "language": "python",
   "name": "python3"
  },
  "language_info": {
   "codemirror_mode": {
    "name": "ipython",
    "version": 3
   },
   "file_extension": ".py",
   "mimetype": "text/x-python",
   "name": "python",
   "nbconvert_exporter": "python",
   "pygments_lexer": "ipython3",
   "version": "3.7.3"
  }
 },
 "nbformat": 4,
 "nbformat_minor": 2
}
