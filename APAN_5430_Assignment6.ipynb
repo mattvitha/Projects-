{
 "cells": [
  {
   "cell_type": "code",
   "execution_count": 2,
   "metadata": {},
   "outputs": [
    {
     "name": "stdout",
     "output_type": "stream",
     "text": [
      "Collecting gensim\n",
      "\u001b[?25l  Downloading https://files.pythonhosted.org/packages/b3/54/1d7294672110d5c0565cabc4b99ed952ced9a2dc2ca1d59ad1b34303a6de/gensim-3.8.1-cp37-cp37m-macosx_10_6_intel.macosx_10_9_intel.macosx_10_9_x86_64.macosx_10_10_intel.macosx_10_10_x86_64.whl (24.7MB)\n",
      "\u001b[K     |████████████████████████████████| 24.7MB 1.5MB/s eta 0:00:01     |████████████████████            | 15.5MB 1.6MB/s eta 0:00:06\n",
      "\u001b[?25hRequirement already satisfied: numpy>=1.11.3 in /anaconda3/lib/python3.7/site-packages (from gensim) (1.16.4)\n",
      "Collecting smart-open>=1.8.1 (from gensim)\n",
      "\u001b[?25l  Downloading https://files.pythonhosted.org/packages/37/c0/25d19badc495428dec6a4bf7782de617ee0246a9211af75b302a2681dea7/smart_open-1.8.4.tar.gz (63kB)\n",
      "\u001b[K     |████████████████████████████████| 71kB 8.4MB/s  eta 0:00:01\n",
      "\u001b[?25hRequirement already satisfied: scipy>=0.18.1 in /anaconda3/lib/python3.7/site-packages (from gensim) (1.3.1)\n",
      "Requirement already satisfied: six>=1.5.0 in /anaconda3/lib/python3.7/site-packages (from gensim) (1.12.0)\n",
      "Requirement already satisfied: boto>=2.32 in /anaconda3/lib/python3.7/site-packages (from smart-open>=1.8.1->gensim) (2.49.0)\n",
      "Requirement already satisfied: requests in /anaconda3/lib/python3.7/site-packages (from smart-open>=1.8.1->gensim) (2.22.0)\n",
      "Collecting boto3 (from smart-open>=1.8.1->gensim)\n",
      "\u001b[?25l  Downloading https://files.pythonhosted.org/packages/f6/fa/6397049020b312f71c397fff8d10247c2e49da760e2807af7d21e3c23695/boto3-1.9.253-py2.py3-none-any.whl (128kB)\n",
      "\u001b[K     |████████████████████████████████| 133kB 8.0MB/s eta 0:00:01\n",
      "\u001b[?25hRequirement already satisfied: urllib3!=1.25.0,!=1.25.1,<1.26,>=1.21.1 in /anaconda3/lib/python3.7/site-packages (from requests->smart-open>=1.8.1->gensim) (1.24.2)\n",
      "Requirement already satisfied: chardet<3.1.0,>=3.0.2 in /anaconda3/lib/python3.7/site-packages (from requests->smart-open>=1.8.1->gensim) (3.0.4)\n",
      "Requirement already satisfied: certifi>=2017.4.17 in /anaconda3/lib/python3.7/site-packages (from requests->smart-open>=1.8.1->gensim) (2019.6.16)\n",
      "Requirement already satisfied: idna<2.9,>=2.5 in /anaconda3/lib/python3.7/site-packages (from requests->smart-open>=1.8.1->gensim) (2.8)\n",
      "Collecting botocore<1.13.0,>=1.12.253 (from boto3->smart-open>=1.8.1->gensim)\n",
      "\u001b[?25l  Downloading https://files.pythonhosted.org/packages/8e/7b/88f10115b4748f86be6b7b1d8761ba5023fccf6e6cbe762e368f63eddcf9/botocore-1.12.253-py2.py3-none-any.whl (5.7MB)\n",
      "\u001b[K     |████████████████████████████████| 5.8MB 1.7MB/s eta 0:00:011\n",
      "\u001b[?25hCollecting jmespath<1.0.0,>=0.7.1 (from boto3->smart-open>=1.8.1->gensim)\n",
      "  Downloading https://files.pythonhosted.org/packages/83/94/7179c3832a6d45b266ddb2aac329e101367fbdb11f425f13771d27f225bb/jmespath-0.9.4-py2.py3-none-any.whl\n",
      "Collecting s3transfer<0.3.0,>=0.2.0 (from boto3->smart-open>=1.8.1->gensim)\n",
      "\u001b[?25l  Downloading https://files.pythonhosted.org/packages/16/8a/1fc3dba0c4923c2a76e1ff0d52b305c44606da63f718d14d3231e21c51b0/s3transfer-0.2.1-py2.py3-none-any.whl (70kB)\n",
      "\u001b[K     |████████████████████████████████| 71kB 5.6MB/s eta 0:00:01\n",
      "\u001b[?25hRequirement already satisfied: docutils<0.16,>=0.10 in /anaconda3/lib/python3.7/site-packages (from botocore<1.13.0,>=1.12.253->boto3->smart-open>=1.8.1->gensim) (0.15.2)\n",
      "Requirement already satisfied: python-dateutil<3.0.0,>=2.1; python_version >= \"2.7\" in /anaconda3/lib/python3.7/site-packages (from botocore<1.13.0,>=1.12.253->boto3->smart-open>=1.8.1->gensim) (2.8.0)\n",
      "Building wheels for collected packages: smart-open\n",
      "  Building wheel for smart-open (setup.py) ... \u001b[?25ldone\n",
      "\u001b[?25h  Created wheel for smart-open: filename=smart_open-1.8.4-cp37-none-any.whl size=68201 sha256=08d525564860e9c4092329d853b3ee0a753d0dc0e9eaaa26fb24b6b3553d12e6\n",
      "  Stored in directory: /Users/matthewvitha/Library/Caches/pip/wheels/5f/ea/fb/5b1a947b369724063b2617011f1540c44eb00e28c3d2ca8692\n",
      "Successfully built smart-open\n",
      "Installing collected packages: jmespath, botocore, s3transfer, boto3, smart-open, gensim\n",
      "Successfully installed boto3-1.9.253 botocore-1.12.253 gensim-3.8.1 jmespath-0.9.4 s3transfer-0.2.1 smart-open-1.8.4\n"
     ]
    }
   ],
   "source": [
    "#!pip install gensim"
   ]
  },
  {
   "cell_type": "code",
   "execution_count": 1,
   "metadata": {},
   "outputs": [],
   "source": [
    "import gensim, operator\n",
    "from scipy import spatial\n",
    "import numpy as np\n",
    "from gensim.models import KeyedVectors\n",
    "\n",
    "model_path = '/Users/matthewvitha/Downloads/'"
   ]
  },
  {
   "cell_type": "code",
   "execution_count": 3,
   "metadata": {},
   "outputs": [
    {
     "name": "stdout",
     "output_type": "stream",
     "text": [
      "Loading Word2Vec model...\n",
      "Finished loading Word2Vec model...\n"
     ]
    }
   ],
   "source": [
    "def load_wordvec_model(modelName, modelFile, flagBin):\n",
    "    print('Loading ' + modelName + ' model...')\n",
    "    model = KeyedVectors.load_word2vec_format(model_path + modelFile, binary=flagBin)\n",
    "    print('Finished loading ' + modelName + ' model...')\n",
    "    return model\n",
    "\n",
    "model_word2vec = load_wordvec_model('Word2Vec', 'GoogleNews-vectors-negative300.bin.gz', True)\n",
    "#model_word2vec = load_wordvec_model('Word2Vec', 'webhose_skipgram_300.bin', True)"
   ]
  },
  {
   "cell_type": "code",
   "execution_count": 4,
   "metadata": {},
   "outputs": [],
   "source": [
    "import pickle \n",
    "filehandler = open('apanps5430_webhose.pickle', 'rb') \n",
    "object1 = pickle.load(filehandler)"
   ]
  },
  {
   "cell_type": "code",
   "execution_count": 5,
   "metadata": {},
   "outputs": [
    {
     "data": {
      "text/plain": [
       "10300"
      ]
     },
     "execution_count": 5,
     "metadata": {},
     "output_type": "execute_result"
    }
   ],
   "source": [
    "len(object1)"
   ]
  },
  {
   "cell_type": "code",
   "execution_count": 6,
   "metadata": {},
   "outputs": [
    {
     "name": "stdout",
     "output_type": "stream",
     "text": [
      "Random number between 0 and 10300 :  3917\n"
     ]
    }
   ],
   "source": [
    "import random\n",
    "#random.randrange() with only one argument\n",
    "print(\"Random number between 0 and 10300 : \", random.randrange(10300))"
   ]
  },
  {
   "cell_type": "code",
   "execution_count": 7,
   "metadata": {},
   "outputs": [],
   "source": [
    "article_hw6_1 = object1[3917]['text'].rstrip()"
   ]
  },
  {
   "cell_type": "code",
   "execution_count": 8,
   "metadata": {},
   "outputs": [
    {
     "data": {
      "text/plain": [
       "\"Equities have gotten a much-needed boost on the trade front so far this month. The resultant return of enthusiasm for equities resulted in one of the best weeks for the S&P 500 Index (SPX) last week. And while short covering may already be mostly complete, there are signs that the major averages will continue to push higher in the coming months. Among them is a bullish signal from an oft-overlooked yield curve. We’ll examine this as I make the case for owning stocks in today’s report.\\nAfter confirming a “weak” buy signal earlier this week, my immediate-term (1-4 week) trend indicator has since improved even further. As of Friday, all six of the major indices which comprise the indicator have closed at least two days higher above the 15-day moving average. This technically confirms a bottom per the rules of my technical trading discipline and increases the likelihood of further gains in the coming weeks. The former laggards, namely the S&P 400 Midcap Index (MID) and Russell 2000 Small Cap Index (RUT), have now joined the other four major indices in confirming the low.\\nThe motive force behind the broad market selling pressure in August was easy to see, namely trade war fears. Yet when the reason for stock market weakness is easy to see, experience teaches that any declines which the major averages suffer are likely to be recovered in short order. That certainly appears to be the case now that stocks are clawing their way back to quickly recover last month's losses.\\nLast month’s losses can’t entirely be blamed on the U.S.-China trade war, however. The Fed’s relatively tight monetary policy (relative to the low level of U.S. Treasury yields) is another leading culprit behind the August stock market scare. Low government bond rates and inverted yield curves are still a potential problem for investors. Ironically, however, low rates are setting up a bullish scenario for equities in the remainder of 2019. What’s more, at least one yield curve inversion is arguing in favor of higher equity prices from an intermediate-term (3-6 month) perspective.\\nSpeaking of yield curve fears, one potentially positive outcome for the falling interest rate trend was recently addressed by one of Wall Street’s leading economists. In his latest blog , Dr. Ed Yardeni observed:\\nThe rationale for remaining bullish on U.S. stocks seems to be shifting from TINA (there is no alternative) and FOMO (fear of missing out) to FONIR (fear of negative interest rates). These fears are inherently bullish for stocks and continue to overcome the bearish fear that an inverted yield curve is predicting an impending recession, i.e., FOIYC (fear of inverted yield curve).”\\nWith the 10-year US Treasury bond yield at ~1.55% as of this writing, government bond yields are now below the S&P 500 dividend yield of around 1.90%. The following graph illustrates this encouraging message.\\nSource: Yardeni Research\\nThis is one yield curve inversion that bodes well for the intermediate-term equity market outlook. As Yardeni observed, “That is one very good reason why they remain mostly fully invested in the stock market.” He notes moreover that the forward earnings yield of the S&P 500 is around 6%, which is even more attractive compared with sovereign bond yields.\\nFrom a short-term technical perspective, it’s especially encouraging that the number of stocks making new 52-week lows on the NYSE has drastically improved in the past week. In four of the last five trading sessions, new 52-week lows numbered less than 40. That’s a very good indication that internal selling pressure is diminishing on the Big Board. The ratio of NYSE-listed stocks making new 52-week highs versus new lows has also significantly increased in the past week and was an astonishingly high 17:1 on Sept. 5. While short covering accounts for some of the market’s recent gains, the new highs and lows improvement is a sign that bargain buying interest is returning.\\nMoreover, the NYSE new high/low ratio has also drastically improved lately and is outperforming the major indices (below). This can be viewed as a leading indication that the market is returning to a normal, healthy condition along with incremental demand for equities.\\nSource: StockCharts\\nIt’s especially encouraging that the troubled energy sector has also shown improvement in recent days. Shown here is the NYSE Arca Oil Index (XOI), which has technically confirmed an immediate-term low in relation to its 15-day moving average. The selling in the energy sector looked overdone by late August, so a meaningful short covering rally from here wouldn’t be surprising. Any additional rallying in the beaten-down energy sector can only help the broad market by allowing the healthier sectors to move higher since they won’t be dragged down by the residual weakness in oil and gas stocks (as was the case last month).\\nSource: BigCharts\\nAlso confidence inspiring is the latest plunge in the CBOE Volatility Index (VIX) decisively under the 16.00 level. In recent reports I emphasized the necessity of VIX to fall below 16.00 and ideally fall back into the 10.00 to 15.00 range. The best buying opportunities for equities in recent years have occurred when VIX is within this range. As of Sept. 6, VIX closed exactly at the 15.00 level - the first time since June that this constructive development has occurred.\\nSource: BigCharts\\nNot only is volatility declining, but there are preliminary signs that even the “mania” for safe havens like Treasury bonds may be diminishing - at least temporarily. Last week, the iShares 10-20 Year Treasury Bond ETF ( TLH ) closed under its 15-day moving average for the first time since July. Granted that this is a very weak immediate-term “top” signal, for the close under the 15-day MA was very slight.\\nSource: BigCharts\\nMoreover, the last time this happened in July it proved to be only a corrective “pause that refreshes” in an ongoing rising trend for Treasury bond prices (as well as the plunge in yields). While it’s still too early to tell if this represents the beginning of the end of the rush into the safe havens, at least there is some encouragement in that the bond market is showing signs of hesitation. A further decline in TLH below the pivotal 150.00 level would serve as a much stronger signal that investors are indeed turning their backs on the safe havens.\\nWith a growing number of technical and fundamental indications pointing to the bulls still having control of the U.S. equity market, investors shouldn’t lose heart about the market’s prospects in the coming months. Indeed, there are an adequate number of signs to suggest that demand for stocks is returning while safe-haven demand may be dwindling. The drastic improvement in breadth and the diminution in the number of stocks making new 52-week lows are but two such technical indications that strength is returning to the broad market. The short covering in energy stocks is another positive sign whose importance to the broad market can’t be understated. A bullish posture is therefore still warranted.\\nOn a strategic note, I’m currently long the Invesco Dynamic Food & Beverage ETF ( PBJ ). As discussed in a recent report, my research indicates that food retail stocks are among the top relative strength and earnings growth leaders of the broad market. I recommend using a level slightly below the 34.20 level as the initial stop-loss for this trading position.\\nDisclosure: I am/we are long PBJ. I wrote this article myself, and it expresses my own opinions. I am not receiving compensation for it (other than from Seeking Alpha). I have no business relationship with any company whose stock is mentioned in this article.\""
      ]
     },
     "execution_count": 8,
     "metadata": {},
     "output_type": "execute_result"
    }
   ],
   "source": [
    "article_hw6_1.rstrip()"
   ]
  },
  {
   "cell_type": "code",
   "execution_count": 7,
   "metadata": {},
   "outputs": [
    {
     "name": "stdout",
     "output_type": "stream",
     "text": [
      "Random number between 0 and 10300 :  8824\n"
     ]
    }
   ],
   "source": [
    "import random\n",
    "#random.randrange() with only one argument\n",
    "print(\"Random number between 0 and 10300 : \", random.randrange(10300))"
   ]
  },
  {
   "cell_type": "code",
   "execution_count": 9,
   "metadata": {},
   "outputs": [],
   "source": [
    "article_hw6_2 = object1[8824]['text'].rstrip()"
   ]
  },
  {
   "cell_type": "code",
   "execution_count": 10,
   "metadata": {},
   "outputs": [
    {
     "data": {
      "text/plain": [
       "'Leading U.S. business groups said they expect that the latest goodwill gestures of the U.S. and Chinese governments will usher in \"productive\" talks and put an end to the tariff increases that have led to their protracted trade war.\\nPlans were announced on Wednesday by the U.S. leader to delay a tariff increase on $250 billion worth of Chinese imports planned for Oct 1 for two weeks, until Oct 15. China also said earlier in the day that it was exempting 16 types of U.S. products from duties.\\nOn Friday in Beijing, the Customs Tariff Commission of the State Council said it will exclude some agricultural products like soybeans and pork from the additional tariffs on U.S. goods, Xinhua News Agency reported official sources as saying.\\nAlso, Reuters reported that Chinese firms bought at least 10 boatloads of U.S. soybeans, the country\\'s most significant purchases since June.\\n\"We hope this (U.S.) announcement, combined with other confidence-building measures from both governments, will create the conditions necessary for productive trade negotiations and end the cycle of tit-for-tat retaliatory actions,\" the Washington-based U.S.-China Business Council said on Thursday.\\nOn Thursday afternoon, the U.S. leader told reporters he doesn\\'t want an interim deal, adding that he would rather get the whole deal done.\\nAlso on Thursday in Beijing, Vice-Premier Liu He said in a meeting with U.S.CBC Chairman Evan Greenberg that the entire world looks forward to seeing progress in trade consultations between China and the United States.\\nThe U.S.CBC represents about 200 U.S. companies that do business with China, including some of the world\\'s best-known brands.\\nLiu said that working groups from the two nations will meet next week and have \"earnest discussions\" on the trade balance, market access, protection of investors and other issues of common concern, according to Xinhua.\\nGreenberg said the U.S. business sector does not want to see a rise in tariffs, and hopes that the two countries will solve their differences through consultations and bring bilateral trade back to normal.\\nU.S.CBC President Craig Allen said, \"Tariffs are a tax on our businesses and consumers — the impact on supply chains and company confidence is clearly hurting the economy.\" Unilateral imposition of tariffs makes U.S. companies less competitive in the global arena, he added.\\n\"We urge both sides to work toward eliminating tariffs, realize the concrete progress that is possible today, and build momentum for longer-term negotiations on the most challenging issues,\" Allen said.\\nJennifer Safavian, executive vice-president of government affairs at the Retail Industry Leaders Association, said leading U.S. retailers are hopeful the president\\'s gesture of goodwill in delaying the tariff increases will lead to productive talks between the two countries next month.\\n\"A resolution is sorely needed that puts an end to the tariff increases,\" she said.\\nRILA, based in Arlington, Virginia, near Washington, represents more than 200 retailers, product manufacturers and service suppliers, which together account for more than $1.5 trillion in annual sales, millions of U.S. jobs and more than 100,000 stores.\\n\"Consumer confidence is the one pillar of strength in the U.S. economy, and the president\\'s tariff strategy is threatening that, as higher prices will be imposed on consumer goods with increased tariffs,\" Safavian said. \"Negotiating a path forward that puts an end to the erratic tariff increases and provides some dose of certainty to businesses should be the goal for the October trade discussions.\"\\nThe International Monetary Fund said on Thursday that the rising trade and geopolitical tensions have increased uncertainty, taking a toll on business confidence, investment and global trade.\\n\"Our latest estimate is that … the U.S.-China tariffs, including those implemented and announced, could potentially reduce the level of global GDP by 0.8 percent in 2020, with additional losses in future years,\" IMF spokesman Gerry Rice said.\\nGary Shapiro, president and CEO of the Consumer Technology Association, also based in Arlington, said in a statement Wednesday that increasing tariffs are giving the stock market whiplash, and consumers are getting worried — last month consumer sentiment dropped almost 10 percentage points. Related news'"
      ]
     },
     "execution_count": 10,
     "metadata": {},
     "output_type": "execute_result"
    }
   ],
   "source": [
    "article_hw6_2"
   ]
  },
  {
   "cell_type": "code",
   "execution_count": 11,
   "metadata": {},
   "outputs": [],
   "source": [
    "def vec_similarity(input1, input2, vectors):\n",
    "    term_vectors = [np.zeros(300), np.zeros(300)]\n",
    "    terms = [input1, input2]\n",
    "        \n",
    "    for index, term in enumerate(terms):\n",
    "        for i, t in enumerate(term.split(' ')):\n",
    "            try:\n",
    "                term_vectors[index] += vectors[t]\n",
    "            except:\n",
    "                term_vectors[index] += 0\n",
    "        \n",
    "    result = (1 - spatial.distance.cosine(term_vectors[0], term_vectors[1]))\n",
    "    if result is 'nan':\n",
    "        result = 0\n",
    "        \n",
    "    return result"
   ]
  },
  {
   "cell_type": "code",
   "execution_count": 12,
   "metadata": {},
   "outputs": [],
   "source": [
    "# function checks whether the input words are present in the vocabulary for the model\n",
    "def vocab_check(vectors, words):\n",
    "    \n",
    "    output = list()\n",
    "    for word in words:\n",
    "        if word in vectors.vocab:\n",
    "            output.append(word.strip())\n",
    "            \n",
    "    return output"
   ]
  },
  {
   "cell_type": "code",
   "execution_count": 13,
   "metadata": {},
   "outputs": [],
   "source": [
    "# function calculates similarity between two strings using a particular word vector model\n",
    "def calc_similarity(input1, input2, vectors):\n",
    "    s1words = set(vocab_check(vectors, input1.split()))\n",
    "    s2words = set(vocab_check(vectors, input2.split()))\n",
    "    \n",
    "    output = vectors.n_similarity(s1words, s2words)\n",
    "    return output"
   ]
  },
  {
   "cell_type": "code",
   "execution_count": 14,
   "metadata": {},
   "outputs": [
    {
     "name": "stdout",
     "output_type": "stream",
     "text": [
      "0.88737154\n"
     ]
    }
   ],
   "source": [
    "    output2 = calc_similarity(article_hw6_1, \n",
    "                              article_hw6_2, model_word2vec)\n",
    "    print(output2)"
   ]
  },
  {
   "cell_type": "code",
   "execution_count": 15,
   "metadata": {},
   "outputs": [],
   "source": [
    "article_body_list = []\n",
    "for i in range(len(object1)):\n",
    "             article_body_list.append(object1[i]['text'].rstrip())"
   ]
  },
  {
   "cell_type": "code",
   "execution_count": 16,
   "metadata": {},
   "outputs": [
    {
     "data": {
      "text/plain": [
       "range(0, 10300)"
      ]
     },
     "execution_count": 16,
     "metadata": {},
     "output_type": "execute_result"
    }
   ],
   "source": [
    "range(len(object1))"
   ]
  },
  {
   "cell_type": "code",
   "execution_count": 17,
   "metadata": {},
   "outputs": [
    {
     "data": {
      "text/plain": [
       "10300"
      ]
     },
     "execution_count": 17,
     "metadata": {},
     "output_type": "execute_result"
    }
   ],
   "source": [
    "len(article_body_list)"
   ]
  },
  {
   "cell_type": "markdown",
   "metadata": {},
   "source": [
    "# Loads the downloaded pre-trained Google Word2Vec model from your computer\n",
    "\n",
    "# Loads your previously obtained dataset of Webhose news articles\n",
    "\n",
    "# For any one selected article title from the dataset, \n",
    "\n",
    "# finds 100 most similar titles based on Word2Vec similarity, prints those titles in the reverse order of similarity scores."
   ]
  },
  {
   "cell_type": "code",
   "execution_count": null,
   "metadata": {},
   "outputs": [],
   "source": []
  },
  {
   "cell_type": "markdown",
   "metadata": {},
   "source": [
    "### ANSWER TO PART 1"
   ]
  },
  {
   "cell_type": "code",
   "execution_count": 18,
   "metadata": {},
   "outputs": [],
   "source": [
    "# Create your dictionary class \n",
    "class my_dictionary(dict): \n",
    "  \n",
    "    # __init__ function \n",
    "    def __init__(self): \n",
    "        self = dict() \n",
    "          \n",
    "    # Function to add key:value \n",
    "    def add(self, key, value): \n",
    "        self[key] = value \n",
    "        \n",
    "def multiple_similarity_dict2(article1,article_body_list,model_word2vec):\n",
    "    reject_list = []\n",
    "    dict_obj = my_dictionary() \n",
    "    for i in range(len(object1)):\n",
    "        try:\n",
    "            output = calc_similarity(article1,object1[i]['text'].rstrip(),model_word2vec)\n",
    "            dict_obj.add(object1[i]['title'].rstrip(),output)\n",
    "        except:\n",
    "            reject_list.append(object1[i]['title'].rstrip())\n",
    "            continue\n",
    "\n",
    "    listofTuples = sorted(dict_obj.items() ,reverse=True,  key=lambda x: x[1])\n",
    "    for elem in listofTuples[0:100] :\n",
    "        print(elem[0] , \":\" , elem[1] )"
   ]
  },
  {
   "cell_type": "code",
   "execution_count": 19,
   "metadata": {},
   "outputs": [
    {
     "name": "stdout",
     "output_type": "stream",
     "text": [
      "A Yield Curve That Argues In Favor Of Stocks : 1.0\n",
      "Value's Return Will Energize The Bull : 0.98083425\n",
      "Watch For Gold's Currency Component To Strengthen : 0.97878605\n",
      "A Needed Refreshment Period For Gold Stocks : 0.9767989\n",
      "Black Monday – Can It Happen Again? : 0.9717597\n",
      "Black Monday - Can It Happen Again? : 0.9717158\n",
      "Sector Detector: Stocks take a bullish rotation into neglected market segments, but will it last? | Financial Markets : 0.969188\n",
      "Risk-On Sentiment Resumes | Forex Trading : 0.9685242\n",
      "The Recession Approaches: Fed Or No Fed, Deal Or No Deal - S&P 500 Index (:SP500) : 0.967015\n",
      "JP Morgan's market guru say his 'once in a decade' trade is upon us : 0.96688956\n",
      "This Little Noticed S&P Index Is Up 25% This Year—and Offers a Hedge Against Wild Market Swings | Paper Spy : 0.96573466\n",
      "The Odd Reason the Stock Market Could Soar to New Highs - Motley Fool - World News : 0.9653887\n",
      "What’s Behind the Stock Market’s Great Rotation : 0.9653488\n",
      "SCHV: Value Is Seeing Renewed Interest - Schwab U.S. Large-Cap Value ETF (NYSEARCA:SCHV) : 0.9652226\n",
      "S&P 500 Weekly Update: New Market Highs Loom As The Upside Momentum Continues : 0.9649847\n",
      "MOCCAH NETWORK : 0.9649811\n",
      "Energy, financial stocks soar: Oversold bounce or the beginning of a break out? : 0.96450484\n",
      "Stocks are expected to break out to new highs, barring any errant presidential trade tweets : 0.96440953\n",
      "This Little Noticed S&P Index Is Up 25% This Year—and Offers a Hedge Against Wild Market Swings : 0.9643226\n",
      "The glitter appears to be coming off the rally in all things gold : 0.9639011\n",
      "Bitcoin Stranded as SEC Chief Indicates Behindhand ETF : 0.9633092\n",
      "Brighter outlook for economy could halt a TSX rally fuelled by recession fears : 0.9633083\n",
      "INVESTMENT INSIGHT: Global financial markets: Risk-off cycle coming to an end : 0.96307\n",
      "Where is Russia’s stock market headed this year? : 0.96305275\n",
      "Jennifer Radman interviewed by the Globe and Mail : 0.9628327\n",
      "With Economic Data Mixed, Why Are Stocks So Strong? : 0.96271276\n",
      "The stock market is experiencing a jarring shift seen only twice in history, and not since the tech bubble. Here's where JPMorgan's quant guru says investors should look to capitalize. : 0.9626023\n",
      "Recession Obsession And Full Portfolio Review : 0.9624163\n",
      "The Risks And Rewards Of Trading Around All-Time Highs In The Stock Market : 0.962378\n",
      "Gold to Correct as Stocks Rally : 0.96192217\n",
      "Why Might September Exceed Expectations? - Aug. 30, 2019 : 0.9618241\n",
      "Upside Down: What Does the Yield Curve Suggest about Growth? : 0.9616251\n",
      "The Hottest Leveraged ETFs Of Summer 2019 : 0.9615018\n",
      "Did gold rally run its course? Global paradigm shift points to higher prices long-term | Kitco News : 0.9614728\n",
      "Procter & Gamble Is Historically Overpriced - The Procter & Gamble Company (NYSE:PG) : 0.9613314\n",
      "Trend-following bond traders get fingers burned as Treasury yields surge : 0.9612948\n",
      "Amazon.com, Inc. (NASDAQ:AMZN), Target Corporation (NYSE:TGT) - Tech, Financial Shares Rally Thursday Amid Trade-Talk Optimism, Rising Treasury Yields : 0.9608454\n",
      "This Little Noticed S&P Index Is Up 25% This Year—and Offers a Hedge Against Wild Market Swings | Fortune : 0.9606102\n",
      "Traders Are \"Playing With Fire\" | Zero Hedge : 0.96055686\n",
      "Stock Market Bulls Playing with Fire : 0.9605516\n",
      "Alico, Inc. (ALCO) Sees Rank Correlation Indicator Trend Towards Potential Reversal : 0.9605075\n",
      "CAPITAL IDEAS: From Maestro’s lips : 0.960461\n",
      "Stocks To Test Highs On Hope Fed Is Less Optimistic Than Investors : 0.9604066\n",
      "Fed’s Cut Puzzle And Gold : 0.96033525\n",
      "Playing with Fire – NorthmanTrader : 0.9602752\n",
      "Traders Are “Playing With Fire” : 0.9602495\n",
      "Traders Are \"Playing With Fire\" : 0.96018875\n",
      "Stock Bulls Betting on Rate Cuts Are a Long Way From Sure Thing - BNN Bloomberg : 0.9600979\n",
      "Council Post: Wall Street Edge: The Fed's 'Insurance' Rate Cut : 0.96009165\n",
      "September Is Worst Month For US Stock Market, History Shows - InsuranceNewsNet : 0.9600896\n",
      "Stock Bulls Betting on Rate Cuts Are a Long Way From Sure Thing : 0.95991534\n",
      "Gold Seen Correcting as Stocks Rally : 0.9597644\n",
      "Patience : 0.9596288\n",
      "Jordan Roy-Byrne – “Gold to Correct as Stocks Rally” : 0.9595034\n",
      "September is worst month for US stock market, history shows | MarketBeat.com : 0.9593133\n",
      "Market Maintains Some Optimism After Weaker-Than-Expected Jobs Data : 0.9592609\n",
      "The Fed May Hold Steady : 0.9591656\n",
      "Is It Fall Hurricane Season for Investors? : 0.9589668\n",
      "Gold Price To Correct As Stocks Rally : 0.95888627\n",
      "The Great Bull Market Run of 2019 and 2020 May Only Be Starting : 0.9586891\n",
      "Stocks finished higher yesterday. The Dow Jones Industrials extended their winning streak to 7 straight sessions. : 0.95867676\n",
      "Chop, Chop, Chop: Stocks' Choppy Behavior Around Trade News : 0.9586117\n",
      "Is 2019 Similar to 2007? What Does It Mean For Gold? : 0.95851374\n",
      "The stocks that have dominated the market for years are getting destroyed. Here’s what it means, and what might be next. : 0.95840794\n",
      "BND: Don't Hold This Hot Potato - Vanguard Total Bond Market ETF (NASDAQ:BND) : 0.9583747\n",
      "September is worst month for US stock market, history shows : 0.9581654\n",
      "September is worst month for US stock market, history shows - Westport News : 0.9581654\n",
      "September is worst month for US stock market, history shows - The Edwardsville Intelligencer : 0.9581654\n",
      "Wisdomtree Issuer Plc (DHSD.L) Shares Taking a Dip Down -0.26% For the Week : 0.9580152\n",
      "September is worst month for US stock market, history shows - news : 0.95765066\n",
      "'The most important chart in the world' offers a warning sign : 0.9576058\n",
      "September worst month for US stock market, history shows - The Daily Courier - Prescott, AZ : 0.9575956\n",
      "Mark Zuckerberg Sells Facebook Stock, But Don’t Panic Yet : 0.9575877\n",
      "Gold And Silver Investors Should Be Wary Of Trade Talk Optimism And Buy The Dip : 0.9574726\n",
      "Fed's cut puzzle and gold | Kitco News : 0.9574245\n",
      "Souring Bets on Apocalypse Were at Center of Quant Stock Storm - : 0.9574235\n",
      "How To Outperform The Market By Watching The Semiconductor Sector : 0.9574094\n",
      "Apple Inc. (NASDAQ:AAPL), J P Morgan Chase & Co (NYSE:JPM) - Meeting Time: OPEC, ECB Highlight Week Ahead, Along With Apple iPhone Unveiling : 0.95737207\n",
      "The Problem with China - Boston Private : 0.9573292\n",
      "Souring Bets on Apocalypse Were at Center of Quant Stock Storm - BNN Bloomberg : 0.9573123\n",
      "Are Central Banks Losing Their Economic Clout? : 0.95729685\n",
      "Equities rebound on positive trade news | Saxo Group : 0.9572595\n",
      "Chaikin Oscillator Dribbles Below The Line For Independence Contract Drilling Inc (ICD) : 0.95725584\n",
      "Week Ahead Features OPEC, ECB, With Apple iPhone Unveiling, Too : 0.9571197\n",
      "Trump Unleashes Selling Tsunami In This Hot Area Of The Stock Market : 0.9570313\n",
      "Changan RH (8139.HK) Shares Drop -20.89% : 0.95702374\n",
      "Are Investors Being Lulled Into A False Sense Of Security? : 0.9569262\n",
      "Adtran Inc (ADTN) Looking To Gain Traction: What the Technicals Reveal : 0.95687854\n",
      "Mountain Prv Dmds (MPVD): Tracing the Technical Indicators For the Shares : 0.95687044\n",
      "Signal Watch: What’s Unfolding For Bluerock Residential Growth Rei (BRG)? : 0.9568644\n",
      "Forget recession. The real challenge is slow growth : 0.95684904\n",
      "S&P 500 Notches Second Week of Gains — and Sets Itself Up for More : 0.956756\n",
      "Markets still believe in positive, NZD and AUD grow as part of the correction : 0.9563503\n",
      "Weekly Market Outlook – A Familiar Ceiling is Back in Sight : 0.9561572\n",
      "Signal Spotter: Delving into the Chaiken Oscillator For Surgutneftegaz Pref (SGTPY) : 0.9561149\n",
      "Chaikin Oscillator Dribbles Below The Line For Trustmark Corp (TRMK) : 0.95605236\n",
      "DIETER WERMUTH’S INVESTMENT OUTLOOK – September 2019 : 0.9559081\n",
      "Jakobsen: Der har været et jordskælv på aktiemarkedet : 0.9558629\n",
      "Oncolytics Biotech Inc (ONCY) Looking To Gain Traction: What the Technicals Reveal : 0.9558548\n",
      "Investors dump winners and buy economically sensitive stocks : 0.95585066\n"
     ]
    }
   ],
   "source": [
    "similarity_dict_top100 = multiple_similarity_dict2(article_hw6_1,object1,model_word2vec)"
   ]
  },
  {
   "cell_type": "code",
   "execution_count": 2,
   "metadata": {},
   "outputs": [
    {
     "name": "stdout",
     "output_type": "stream",
     "text": [
      "Using Apache Spark Version 2.4.4\n"
     ]
    }
   ],
   "source": [
    "from pyspark import SparkContext\n",
    "from pyspark.sql import SQLContext\n",
    "sc = SparkContext() \n",
    "sqlContext = SQLContext(sc)\n",
    "from pyspark.mllib.linalg import Vector, Vectors\n",
    "from pyspark.mllib.clustering import LDA, LDAModel\n",
    "from nltk.stem.wordnet import WordNetLemmatizer\n",
    "from pyspark.ml.feature import RegexTokenizer, StopWordsRemover, Word2Vec\n",
    "\n",
    "print(\"Using Apache Spark Version\", sc.version)"
   ]
  },
  {
   "cell_type": "code",
   "execution_count": 3,
   "metadata": {},
   "outputs": [],
   "source": [
    "import spacy\n",
    "import en_core_web_sm\n",
    "nlp = en_core_web_sm.load( disable=['parser', 'tagger','ner'] )\n",
    "\n",
    "def cleanup_pretokenize(text):\n",
    "    #text = re.sub(r'^https?:\\/\\/.*[\\r\\n]*', '', text, flags=re.MULTILINE)\n",
    "    text = re.sub(r'http\\S+', '', text)\n",
    "    text = text.replace(\"'s\", \" \")\n",
    "    text = text.replace(\"n't\", \" not \")\n",
    "    text = text.replace(\"'ve\", \" have \")\n",
    "    text = text.replace(\"'re\", \" are \")\n",
    "    text = text.replace(\"I'm\",\" I am \")\n",
    "    text = text.replace(\"you're\",\" you are \")\n",
    "    text = text.replace(\"You're\",\" You are \")\n",
    "    text = text.replace(\"-\",\" \")\n",
    "    text = text.replace(\"/\",\" \")\n",
    "    text = text.replace(\"(\",\" \")\n",
    "    text = text.replace(\")\",\" \")\n",
    "    text = text.replace(\"%\",\" percent \")\n",
    "    return text\n",
    "\n",
    "lmtzr = WordNetLemmatizer()\n",
    "def text_cleanup(row):\n",
    "    desc = row[2].strip().lower()\n",
    "    tokens = [w.lemma_ for w in nlp(cleanup_pretokenize(desc))]\n",
    "    tokens = [token for token in tokens if token.isalpha()]\n",
    "    tokens = [token for token in tokens if len(token) > 3]\n",
    "    #tokens = [lmtzr.lemmatize(token,'v') for token in tokens]\n",
    "    row[2] = ' '.join(tokens)\n",
    "    return row\n",
    "\n",
    "regexTokenizer = RegexTokenizer(gaps = False, pattern = '\\w+', inputCol = 'text', outputCol = 'tokens')\n",
    "swr = StopWordsRemover(inputCol = 'tokens', outputCol = 'tokens_sw_removed')"
   ]
  },
  {
   "cell_type": "code",
   "execution_count": 4,
   "metadata": {},
   "outputs": [],
   "source": [
    "import json\n",
    "import pandas as pd\n",
    "import pyspark\n",
    "from pyspark.sql import SparkSession\n",
    "spark = SparkSession.builder.appName('pandastosparkdf').getOrCreate()"
   ]
  },
  {
   "cell_type": "code",
   "execution_count": 5,
   "metadata": {},
   "outputs": [],
   "source": [
    "sc = spark.sparkContext\n",
    "path = '/Users/matthewvitha/Downloads/ps5430_mjv_markets.json'\n",
    "peopleDF = spark.read.json(path)\n",
    "\n"
   ]
  },
  {
   "cell_type": "code",
   "execution_count": 6,
   "metadata": {},
   "outputs": [
    {
     "name": "stdout",
     "output_type": "stream",
     "text": [
      "root\n",
      " |-- author: string (nullable = true)\n",
      " |-- crawled: string (nullable = true)\n",
      " |-- entities: struct (nullable = true)\n",
      " |    |-- locations: array (nullable = true)\n",
      " |    |    |-- element: struct (containsNull = true)\n",
      " |    |    |    |-- name: string (nullable = true)\n",
      " |    |    |    |-- sentiment: string (nullable = true)\n",
      " |    |-- organizations: array (nullable = true)\n",
      " |    |    |-- element: struct (containsNull = true)\n",
      " |    |    |    |-- name: string (nullable = true)\n",
      " |    |    |    |-- sentiment: string (nullable = true)\n",
      " |    |-- persons: array (nullable = true)\n",
      " |    |    |-- element: struct (containsNull = true)\n",
      " |    |    |    |-- name: string (nullable = true)\n",
      " |    |    |    |-- sentiment: string (nullable = true)\n",
      " |-- external_images: array (nullable = true)\n",
      " |    |-- element: struct (containsNull = true)\n",
      " |    |    |-- label: array (nullable = true)\n",
      " |    |    |    |-- element: string (containsNull = true)\n",
      " |    |    |-- meta_info: string (nullable = true)\n",
      " |    |    |-- text: string (nullable = true)\n",
      " |    |    |-- url: string (nullable = true)\n",
      " |    |    |-- uuid: string (nullable = true)\n",
      " |-- external_links: array (nullable = true)\n",
      " |    |-- element: string (containsNull = true)\n",
      " |-- highlightText: string (nullable = true)\n",
      " |-- highlightTitle: string (nullable = true)\n",
      " |-- language: string (nullable = true)\n",
      " |-- ord_in_thread: long (nullable = true)\n",
      " |-- published: string (nullable = true)\n",
      " |-- rating: string (nullable = true)\n",
      " |-- text: string (nullable = true)\n",
      " |-- thread: struct (nullable = true)\n",
      " |    |-- country: string (nullable = true)\n",
      " |    |-- domain_rank: long (nullable = true)\n",
      " |    |-- main_image: string (nullable = true)\n",
      " |    |-- participants_count: long (nullable = true)\n",
      " |    |-- performance_score: long (nullable = true)\n",
      " |    |-- published: string (nullable = true)\n",
      " |    |-- replies_count: long (nullable = true)\n",
      " |    |-- section_title: string (nullable = true)\n",
      " |    |-- site: string (nullable = true)\n",
      " |    |-- site_categories: array (nullable = true)\n",
      " |    |    |-- element: string (containsNull = true)\n",
      " |    |-- site_full: string (nullable = true)\n",
      " |    |-- site_section: string (nullable = true)\n",
      " |    |-- site_type: string (nullable = true)\n",
      " |    |-- social: struct (nullable = true)\n",
      " |    |    |-- facebook: struct (nullable = true)\n",
      " |    |    |    |-- comments: long (nullable = true)\n",
      " |    |    |    |-- likes: long (nullable = true)\n",
      " |    |    |    |-- shares: long (nullable = true)\n",
      " |    |    |-- gplus: struct (nullable = true)\n",
      " |    |    |    |-- shares: long (nullable = true)\n",
      " |    |    |-- linkedin: struct (nullable = true)\n",
      " |    |    |    |-- shares: long (nullable = true)\n",
      " |    |    |-- pinterest: struct (nullable = true)\n",
      " |    |    |    |-- shares: long (nullable = true)\n",
      " |    |    |-- stumbledupon: struct (nullable = true)\n",
      " |    |    |    |-- shares: long (nullable = true)\n",
      " |    |    |-- vk: struct (nullable = true)\n",
      " |    |    |    |-- shares: long (nullable = true)\n",
      " |    |-- spam_score: double (nullable = true)\n",
      " |    |-- title: string (nullable = true)\n",
      " |    |-- title_full: string (nullable = true)\n",
      " |    |-- url: string (nullable = true)\n",
      " |    |-- uuid: string (nullable = true)\n",
      " |-- title: string (nullable = true)\n",
      " |-- url: string (nullable = true)\n",
      " |-- uuid: string (nullable = true)\n",
      "\n"
     ]
    }
   ],
   "source": [
    "peopleDF.printSchema()\n"
   ]
  },
  {
   "cell_type": "code",
   "execution_count": 7,
   "metadata": {},
   "outputs": [],
   "source": [
    "peopleDF.createOrReplaceTempView(\"people\")\n"
   ]
  },
  {
   "cell_type": "code",
   "execution_count": 8,
   "metadata": {},
   "outputs": [],
   "source": [
    "teenagerNamesDF = spark.sql(\"SELECT title, text, url FROM people\")\n"
   ]
  },
  {
   "cell_type": "code",
   "execution_count": 9,
   "metadata": {},
   "outputs": [
    {
     "name": "stdout",
     "output_type": "stream",
     "text": [
      "+--------------------+--------------------+--------------------+\n",
      "|               title|                text|                 url|\n",
      "+--------------------+--------------------+--------------------+\n",
      "|BHP reviews lobby...|Mining giant BHP ...|https://fntalk.co...|\n",
      "|                    |Nobody in the US ...|https://www.thegu...|\n",
      "|U.S., Chinese env...|BEIJING — U.S. an...|http://lasvegassu...|\n",
      "|                    |Today was the fin...|https://www.marke...|\n",
      "|                    |Typical libturd m...|https://www.breit...|\n",
      "|Boxwood Merger, A...|Facebook Boxwood ...|https://financial...|\n",
      "|OCC Fined by SEC/...|JPMorgan to SocGe...|https://johnlothi...|\n",
      "|Industry bill for...|Image copyright R...|https://www.bbc.c...|\n",
      "|                    |Does this idiot n...|https://www.breit...|\n",
      "|Markets surge as ...|Production of des...|https://www.gulft...|\n",
      "|Uber’s Nightmare ...|Investing Strateg...|https://www.equit...|\n",
      "|Messi può lasciar...|Messi può lasciar...|http://www.primop...|\n",
      "|8 Ways to Play th...|Source Photograph...|https://www.barro...|\n",
      "|Stocks Climb Afte...|Stocks notched so...|https://www.newse...|\n",
      "|Top 5 Things to K...|© Reuters. Invest...|https://ca.invest...|\n",
      "|US President Dona...|He declined to sa...|https://gulfnews....|\n",
      "|Treasury Yields S...|admin Treasury yi...|https://news.accu...|\n",
      "|This Little Notic...|A durable piece o...|https://www.paper...|\n",
      "|Gold scales new s...|© Reuters. Gold s...|https://ca.invest...|\n",
      "|US, Chinese envoy...|US, Chinese envoy...|https://www.teleg...|\n",
      "|Stocks jump on pl...|Financial markets...|https://www.press...|\n",
      "|QI of 19 & Techni...|\n",
      "AutoZone, Inc. (...|https://osburnora...|\n",
      "|Stock Chatter: Qu...|\n",
      "Placing iPic Ent...|https://osburnora...|\n",
      "|Buy or Sell? Quan...|\n",
      "Nihon Unisys, Lt...|https://osburnora...|\n",
      "|US Chinese Envoys...|U.S. and Chinese ...|https://www.nbcph...|\n",
      "|A crash course in...|Plus, a financial...|https://www.thegl...|\n",
      "|Dow jumps 450 poi...|The Dow and the b...|https://www.hartf...|\n",
      "|Series: WSHONBIIA...|Units: Millions o...|https://fred.stlo...|\n",
      "|Mallinckrodt cons...|Ahead of the bell...|https://www.becke...|\n",
      "|Dow Bounces 372 P...|The Dow Jones roa...|https://www.ccn.c...|\n",
      "|How Options Can B...|September 5, 2019...|https://www.walls...|\n",
      "|Trump now says hi...|After blaming the...|http://www.msn.co...|\n",
      "|China, US talks b...|A file picture of...|https://www.south...|\n",
      "|This Little Notic...|A durable piece o...|https://fortune.c...|\n",
      "|House Democrats W...|September 5, 2019...|https://www.theep...|\n",
      "| Business Highlights|Posted Sep 5, 201...|https://www.680ne...|\n",
      "|Nasdaq Invites Ma...|X Aktion: Jetzt s...|https://www.finan...|\n",
      "|Slack shares tank...|Worst day since t...|https://www.itnew...|\n",
      "|U.S., Chinese tra...|U.S. and Chinese ...|https://www.chica...|\n",
      "|TFSA Investors: F...|© Reuters. Stocks...|https://ca.invest...|\n",
      "|US, Chinese envoy...|Stock markets ros...|https://www.times...|\n",
      "| Business Highlights|Posted Sep 5, 201...|https://www.mymcm...|\n",
      "|US stocks jump on...|Stocks notched so...|https://www.daily...|\n",
      "|                    |Not sure how writ...|https://www.marke...|\n",
      "|HKEX to resume de...|HKEX to resume de...|https://www.share...|\n",
      "|5-Yr Note Announc...|1:00 p.m. ET\n",
      "Defi...|https://www.cmegr...|\n",
      "|Dow soars 379 poi...|New York (CNN Bus...|http://www.johorb...|\n",
      "|US, China to Hold...|The escalating ti...|https://www.news1...|\n",
      "|Are We Sinking in...|0 Are We Sinking ...|https://kwhs.whar...|\n",
      "|Ravens receive re...|With summer offic...|https://www.balti...|\n",
      "|WeWork mulls slas...|WeWork owner The ...|https://www.chann...|\n",
      "|Putin rebuffs cal...|Putin rebuffs cal...|https://www.kitco...|\n",
      "|Copper rebounds o...|Copper rebounds o...|https://www.kitco...|\n",
      "|S&P 500's breakou...|S&P 500's breakou...|https://www.kitco...|\n",
      "|WeWork seeks $20 ...|WeWork seeks $20 ...|https://www.kitco...|\n",
      "|Did gold rally ru...|Did gold rally ru...|https://www.kitco...|\n",
      "|5 Ideal Fields Fo...|Retirees who are ...|https://realdaily...|\n",
      "|Top 5 Things to K...|© Reuters. Invest...|https://za.invest...|\n",
      "|PRECIOUS-Gold sli...|© Reuters. PRECIO...|https://za.invest...|\n",
      "|Markets Right Now...|\n",
      "NEW YORK (AP) — ...|https://kvoa.com/...|\n",
      "|TIME Names New Sa...|Texas Monthly ann...|https://www.folio...|\n",
      "|Non-oil â€˜key to...|Mohamed Bardastan...|http://www.tradea...|\n",
      "|Cornerstone Build...|\n",
      "Cornerstone Buil...|https://osburnora...|\n",
      "|Sizing up the 47 ...|\n",
      "The Q.i. Value r...|https://osburnora...|\n",
      "|SPDR Bloomberg Ba...|\n",
      "SPDR Bloomberg B...|https://osburnora...|\n",
      "| Business Highlights|___\n",
      "US, Chinese e...|https://www.cityn...|\n",
      "|US STOCKS-What tr...|© Reuters. US STO...|https://za.invest...|\n",
      "|US STOCKS-Robust ...|© Reuters. US STO...|https://za.invest...|\n",
      "|US STOCKS-Strong ...|© Reuters. US STO...|https://za.invest...|\n",
      "|To end opioid epi...|To end opioid epi...|https://www.houst...|\n",
      "|    EarthLink - News|US, Chinese envoy...|http://my.earthli...|\n",
      "|Win Streak May Co...|The Singapore sto...|https://www.rttne...|\n",
      "|Taiwan Stock Mark...|The Taiwan stock ...|https://www.rttne...|\n",
      "|China Bourse Tipp...|The China stock m...|https://www.rttne...|\n",
      "|Hong Kong Stock M...|The Hong Kong sto...|https://www.rttne...|\n",
      "|Indonesia Stock M...|The Indonesia sto...|https://www.rttne...|\n",
      "|Thai Stock Market...|The Thai stock ma...|https://www.rttne...|\n",
      "|KOSPI May Crack R...|The South Korea s...|https://www.rttne...|\n",
      "|Higher Open Predi...|The Malaysia stoc...|https://www.rttne...|\n",
      "|stock market toda...|Here is breaking ...|https://economict...|\n",
      "|    EarthLink - News|US, Chinese envoy...|http://my.earthli...|\n",
      "|Opinion: Has Trum...|Joe Biden has lon...|https://www.pocon...|\n",
      "|WeWork mulls slas...|WeWork mulls slas...|https://www.share...|\n",
      "| Business Highlights|Posted Sep 5, 201...|https://www.660ci...|\n",
      "|                    |The title is terr...|https://news.ycom...|\n",
      "|                    |Does this guy not...|https://news.ycom...|\n",
      "|                    |I think someday w...|https://news.ycom...|\n",
      "|                    |I'm a little conf...|https://news.ycom...|\n",
      "|                    |As others have no...|https://news.ycom...|\n",
      "|                    |Umm, if there's a...|https://news.ycom...|\n",
      "|                    |Vanguard's total ...|https://news.ycom...|\n",
      "| Business Highlights|___ US, Chinese e...|https://abcnews.g...|\n",
      "|US-China Talk Pla...|(AP) -- Investors...|https://www.dtnpf...|\n",
      "|         WORLD STOCK|Caption Writer\n",
      "Th...|http://www.rockym...|\n",
      "|WeWork mulls slas...|(Reuters) - WeWor...|https://www.marke...|\n",
      "|WeWork mulls slas...|(Reuters) - WeWor...|https://www.marke...|\n",
      "|BOND REPORT : Thu...|By Sunny Oh\n",
      "The 2...|https://www.marke...|\n",
      "|                    |Isn't it illegal ...|https://www.marke...|\n",
      "|Industrials up Af...|Shares of industr...|https://www.marke...|\n",
      "|WeWork mulls slas...|WeWork mulls slas...|https://www.first...|\n",
      "+--------------------+--------------------+--------------------+\n",
      "only showing top 100 rows\n",
      "\n"
     ]
    }
   ],
   "source": [
    "teenagerNamesDF.show(100)\n"
   ]
  },
  {
   "cell_type": "code",
   "execution_count": 10,
   "metadata": {},
   "outputs": [],
   "source": [
    "def cossim(v1, v2): \n",
    "    return np.dot(v1, v2) / np.sqrt(np.dot(v1, v1)) / (np.sqrt(np.dot(v2, v2))+.1)\n",
    "\n"
   ]
  },
  {
   "cell_type": "code",
   "execution_count": 11,
   "metadata": {},
   "outputs": [
    {
     "name": "stdout",
     "output_type": "stream",
     "text": [
      "+--------------------+--------------------+--------------------+--------------------+--------------------+\n",
      "|               title|                text|                 url|              tokens|   tokens_sw_removed|\n",
      "+--------------------+--------------------+--------------------+--------------------+--------------------+\n",
      "|BHP reviews lobby...|Mining giant BHP ...|https://fntalk.co...|[mining, giant, b...|[mining, giant, b...|\n",
      "|                    |Nobody in the US ...|https://www.thegu...|[nobody, in, the,...|[nobody, us, care...|\n",
      "|U.S., Chinese env...|BEIJING — U.S. an...|http://lasvegassu...|[beijing, u, s, a...|[beijing, u, chin...|\n",
      "+--------------------+--------------------+--------------------+--------------------+--------------------+\n",
      "only showing top 3 rows\n",
      "\n"
     ]
    }
   ],
   "source": [
    "df_tokens = regexTokenizer.transform(teenagerNamesDF)\n",
    "desc_swr = swr.transform(df_tokens)\n",
    "desc_swr.show(3)"
   ]
  },
  {
   "cell_type": "code",
   "execution_count": 12,
   "metadata": {},
   "outputs": [
    {
     "name": "stdout",
     "output_type": "stream",
     "text": [
      "+--------------------+--------------------+--------------------+--------------------+--------------------+\n",
      "|               title|                text|                 url|              tokens|   tokens_sw_removed|\n",
      "+--------------------+--------------------+--------------------+--------------------+--------------------+\n",
      "|BHP reviews lobby...|Mining giant BHP ...|https://fntalk.co...|[mining, giant, b...|[mining, giant, b...|\n",
      "|                    |Nobody in the US ...|https://www.thegu...|[nobody, in, the,...|[nobody, us, care...|\n",
      "|U.S., Chinese env...|BEIJING — U.S. an...|http://lasvegassu...|[beijing, u, s, a...|[beijing, u, chin...|\n",
      "|                    |Today was the fin...|https://www.marke...|[today, was, the,...|[today, final, da...|\n",
      "|                    |Typical libturd m...|https://www.breit...|[typical, libturd...|[typical, libturd...|\n",
      "|Boxwood Merger, A...|Facebook Boxwood ...|https://financial...|[facebook, boxwoo...|[facebook, boxwoo...|\n",
      "+--------------------+--------------------+--------------------+--------------------+--------------------+\n",
      "only showing top 6 rows\n",
      "\n"
     ]
    }
   ],
   "source": [
    "desc_swr.show(6)"
   ]
  },
  {
   "cell_type": "code",
   "execution_count": 13,
   "metadata": {},
   "outputs": [],
   "source": [
    "word2vec = Word2Vec(vectorSize = 300, minCount = 5, inputCol = 'tokens_sw_removed', outputCol = 'wordvectors')\n",
    "model = word2vec.fit(desc_swr)\n",
    "wordvectors = model.transform(desc_swr)\n",
    "#wordvectors.select('wordvectors').show(1, truncate = True)\n"
   ]
  },
  {
   "cell_type": "code",
   "execution_count": 14,
   "metadata": {},
   "outputs": [
    {
     "name": "stdout",
     "output_type": "stream",
     "text": [
      "+--------------------+--------------------+--------------------+\n",
      "|               title|                 url|         wordvectors|\n",
      "+--------------------+--------------------+--------------------+\n",
      "|BHP reviews lobby...|https://fntalk.co...|[0.01815034324867...|\n",
      "|                    |https://www.thegu...|[-0.0655418891582...|\n",
      "|U.S., Chinese env...|http://lasvegassu...|[0.03168749926035...|\n",
      "|                    |https://www.marke...|[0.04956648064156...|\n",
      "|                    |https://www.breit...|[-0.0371247633931...|\n",
      "|Boxwood Merger, A...|https://financial...|[0.02419945900804...|\n",
      "|OCC Fined by SEC/...|https://johnlothi...|[0.00351946079330...|\n",
      "|Industry bill for...|https://www.bbc.c...|[0.02717728692248...|\n",
      "|                    |https://www.breit...|[-0.0077539615278...|\n",
      "|Markets surge as ...|https://www.gulft...|[0.02788288792857...|\n",
      "|Uber’s Nightmare ...|https://www.equit...|[0.03811132750457...|\n",
      "|Messi può lasciar...|http://www.primop...|[-0.0207329541946...|\n",
      "|8 Ways to Play th...|https://www.barro...|[0.02468332087305...|\n",
      "|Stocks Climb Afte...|https://www.newse...|[0.05413258205368...|\n",
      "|Top 5 Things to K...|https://ca.invest...|[0.04437428472235...|\n",
      "+--------------------+--------------------+--------------------+\n",
      "only showing top 15 rows\n",
      "\n"
     ]
    }
   ],
   "source": [
    "crunchbase_desc = wordvectors.select('title','url','wordvectors').rdd.toDF()\n",
    "crunchbase_desc.show(15)"
   ]
  },
  {
   "cell_type": "code",
   "execution_count": 16,
   "metadata": {},
   "outputs": [
    {
     "name": "stdout",
     "output_type": "stream",
     "text": [
      "+---------+-------------------+\n",
      "|     word|         similarity|\n",
      "+---------+-------------------+\n",
      "|   google| 0.6677765250205994|\n",
      "|instagram| 0.6285538077354431|\n",
      "|smartnews| 0.6049883365631104|\n",
      "|flipboard| 0.5932134985923767|\n",
      "|       fb|   0.59247225522995|\n",
      "|messenger| 0.5849723219871521|\n",
      "|   chrome| 0.5674030184745789|\n",
      "| linkedin| 0.5656650066375732|\n",
      "| alphabet| 0.5624075531959534|\n",
      "|   reddit| 0.5609486103057861|\n",
      "|   amazon| 0.5571268796920776|\n",
      "|  twitter| 0.5481738448143005|\n",
      "|  imgflip| 0.5348209142684937|\n",
      "|     dank| 0.5314338803291321|\n",
      "|    googl| 0.5268673300743103|\n",
      "|memedroid| 0.5226511359214783|\n",
      "|  youtube| 0.5070982575416565|\n",
      "| funniest| 0.5053234100341797|\n",
      "| whatsapp|0.49603506922721863|\n",
      "|    memes| 0.4956207275390625|\n",
      "+---------+-------------------+\n",
      "\n"
     ]
    }
   ],
   "source": [
    "synonyms = model.findSynonyms(\"facebook\", 20)   \n",
    "synonyms.show()"
   ]
  },
  {
   "cell_type": "code",
   "execution_count": 17,
   "metadata": {},
   "outputs": [],
   "source": [
    "chunk = crunchbase_desc.take(50000)\n"
   ]
  },
  {
   "cell_type": "code",
   "execution_count": 18,
   "metadata": {},
   "outputs": [],
   "source": [
    "SEARCH_QUERY = \"prices have increased\""
   ]
  },
  {
   "cell_type": "code",
   "execution_count": 19,
   "metadata": {},
   "outputs": [
    {
     "ename": "IllegalArgumentException",
     "evalue": "'Field \"text\" does not exist.\\nAvailable fields: index, description'",
     "output_type": "error",
     "traceback": [
      "\u001b[0;31m---------------------------------------------------------------------------\u001b[0m",
      "\u001b[0;31mPy4JJavaError\u001b[0m                             Traceback (most recent call last)",
      "\u001b[0;32m/anaconda3/lib/python3.7/site-packages/pyspark/sql/utils.py\u001b[0m in \u001b[0;36mdeco\u001b[0;34m(*a, **kw)\u001b[0m\n\u001b[1;32m     62\u001b[0m         \u001b[0;32mtry\u001b[0m\u001b[0;34m:\u001b[0m\u001b[0;34m\u001b[0m\u001b[0;34m\u001b[0m\u001b[0m\n\u001b[0;32m---> 63\u001b[0;31m             \u001b[0;32mreturn\u001b[0m \u001b[0mf\u001b[0m\u001b[0;34m(\u001b[0m\u001b[0;34m*\u001b[0m\u001b[0ma\u001b[0m\u001b[0;34m,\u001b[0m \u001b[0;34m**\u001b[0m\u001b[0mkw\u001b[0m\u001b[0;34m)\u001b[0m\u001b[0;34m\u001b[0m\u001b[0;34m\u001b[0m\u001b[0m\n\u001b[0m\u001b[1;32m     64\u001b[0m         \u001b[0;32mexcept\u001b[0m \u001b[0mpy4j\u001b[0m\u001b[0;34m.\u001b[0m\u001b[0mprotocol\u001b[0m\u001b[0;34m.\u001b[0m\u001b[0mPy4JJavaError\u001b[0m \u001b[0;32mas\u001b[0m \u001b[0me\u001b[0m\u001b[0;34m:\u001b[0m\u001b[0;34m\u001b[0m\u001b[0;34m\u001b[0m\u001b[0m\n",
      "\u001b[0;32m/anaconda3/lib/python3.7/site-packages/py4j/protocol.py\u001b[0m in \u001b[0;36mget_return_value\u001b[0;34m(answer, gateway_client, target_id, name)\u001b[0m\n\u001b[1;32m    327\u001b[0m                     \u001b[0;34m\"An error occurred while calling {0}{1}{2}.\\n\"\u001b[0m\u001b[0;34m.\u001b[0m\u001b[0;34m\u001b[0m\u001b[0;34m\u001b[0m\u001b[0m\n\u001b[0;32m--> 328\u001b[0;31m                     format(target_id, \".\", name), value)\n\u001b[0m\u001b[1;32m    329\u001b[0m             \u001b[0;32melse\u001b[0m\u001b[0;34m:\u001b[0m\u001b[0;34m\u001b[0m\u001b[0;34m\u001b[0m\u001b[0m\n",
      "\u001b[0;31mPy4JJavaError\u001b[0m: An error occurred while calling o23.transform.\n: java.lang.IllegalArgumentException: Field \"text\" does not exist.\nAvailable fields: index, description\n\tat org.apache.spark.sql.types.StructType$$anonfun$apply$1.apply(StructType.scala:274)\n\tat org.apache.spark.sql.types.StructType$$anonfun$apply$1.apply(StructType.scala:274)\n\tat scala.collection.MapLike$class.getOrElse(MapLike.scala:128)\n\tat scala.collection.AbstractMap.getOrElse(Map.scala:59)\n\tat org.apache.spark.sql.types.StructType.apply(StructType.scala:273)\n\tat org.apache.spark.ml.UnaryTransformer.transformSchema(Transformer.scala:109)\n\tat org.apache.spark.ml.PipelineStage.transformSchema(Pipeline.scala:74)\n\tat org.apache.spark.ml.UnaryTransformer.transform(Transformer.scala:120)\n\tat sun.reflect.NativeMethodAccessorImpl.invoke0(Native Method)\n\tat sun.reflect.NativeMethodAccessorImpl.invoke(NativeMethodAccessorImpl.java:62)\n\tat sun.reflect.DelegatingMethodAccessorImpl.invoke(DelegatingMethodAccessorImpl.java:43)\n\tat java.lang.reflect.Method.invoke(Method.java:498)\n\tat py4j.reflection.MethodInvoker.invoke(MethodInvoker.java:244)\n\tat py4j.reflection.ReflectionEngine.invoke(ReflectionEngine.java:357)\n\tat py4j.Gateway.invoke(Gateway.java:282)\n\tat py4j.commands.AbstractCommand.invokeMethod(AbstractCommand.java:132)\n\tat py4j.commands.CallCommand.execute(CallCommand.java:79)\n\tat py4j.GatewayConnection.run(GatewayConnection.java:238)\n\tat java.lang.Thread.run(Thread.java:748)\n",
      "\nDuring handling of the above exception, another exception occurred:\n",
      "\u001b[0;31mIllegalArgumentException\u001b[0m                  Traceback (most recent call last)",
      "\u001b[0;32m<ipython-input-19-68b22f77634e>\u001b[0m in \u001b[0;36m<module>\u001b[0;34m\u001b[0m\n\u001b[1;32m      1\u001b[0m \u001b[0mquery_df\u001b[0m  \u001b[0;34m=\u001b[0m \u001b[0msc\u001b[0m\u001b[0;34m.\u001b[0m\u001b[0mparallelize\u001b[0m\u001b[0;34m(\u001b[0m\u001b[0;34m[\u001b[0m\u001b[0;34m(\u001b[0m\u001b[0;36m1\u001b[0m\u001b[0;34m,\u001b[0m\u001b[0mSEARCH_QUERY\u001b[0m\u001b[0;34m)\u001b[0m\u001b[0;34m]\u001b[0m\u001b[0;34m)\u001b[0m\u001b[0;34m.\u001b[0m\u001b[0mtoDF\u001b[0m\u001b[0;34m(\u001b[0m\u001b[0;34m[\u001b[0m\u001b[0;34m'index'\u001b[0m\u001b[0;34m,\u001b[0m\u001b[0;34m'description'\u001b[0m\u001b[0;34m]\u001b[0m\u001b[0;34m)\u001b[0m\u001b[0;34m\u001b[0m\u001b[0;34m\u001b[0m\u001b[0m\n\u001b[0;32m----> 2\u001b[0;31m \u001b[0mquery_tok\u001b[0m \u001b[0;34m=\u001b[0m \u001b[0mregexTokenizer\u001b[0m\u001b[0;34m.\u001b[0m\u001b[0mtransform\u001b[0m\u001b[0;34m(\u001b[0m\u001b[0mquery_df\u001b[0m\u001b[0;34m)\u001b[0m\u001b[0;34m\u001b[0m\u001b[0;34m\u001b[0m\u001b[0m\n\u001b[0m\u001b[1;32m      3\u001b[0m \u001b[0mquery_swr\u001b[0m \u001b[0;34m=\u001b[0m \u001b[0mswr\u001b[0m\u001b[0;34m.\u001b[0m\u001b[0mtransform\u001b[0m\u001b[0;34m(\u001b[0m\u001b[0mquery_tok\u001b[0m\u001b[0;34m)\u001b[0m\u001b[0;34m\u001b[0m\u001b[0;34m\u001b[0m\u001b[0m\n\u001b[1;32m      4\u001b[0m \u001b[0mquery_swr\u001b[0m\u001b[0;34m.\u001b[0m\u001b[0mshow\u001b[0m\u001b[0;34m(\u001b[0m\u001b[0;34m)\u001b[0m\u001b[0;34m\u001b[0m\u001b[0;34m\u001b[0m\u001b[0m\n\u001b[1;32m      5\u001b[0m \u001b[0mquery_vec\u001b[0m \u001b[0;34m=\u001b[0m \u001b[0mmodel\u001b[0m\u001b[0;34m.\u001b[0m\u001b[0mtransform\u001b[0m\u001b[0;34m(\u001b[0m\u001b[0mquery_swr\u001b[0m\u001b[0;34m)\u001b[0m\u001b[0;34m\u001b[0m\u001b[0;34m\u001b[0m\u001b[0m\n",
      "\u001b[0;32m/anaconda3/lib/python3.7/site-packages/pyspark/ml/base.py\u001b[0m in \u001b[0;36mtransform\u001b[0;34m(self, dataset, params)\u001b[0m\n\u001b[1;32m    171\u001b[0m                 \u001b[0;32mreturn\u001b[0m \u001b[0mself\u001b[0m\u001b[0;34m.\u001b[0m\u001b[0mcopy\u001b[0m\u001b[0;34m(\u001b[0m\u001b[0mparams\u001b[0m\u001b[0;34m)\u001b[0m\u001b[0;34m.\u001b[0m\u001b[0m_transform\u001b[0m\u001b[0;34m(\u001b[0m\u001b[0mdataset\u001b[0m\u001b[0;34m)\u001b[0m\u001b[0;34m\u001b[0m\u001b[0;34m\u001b[0m\u001b[0m\n\u001b[1;32m    172\u001b[0m             \u001b[0;32melse\u001b[0m\u001b[0;34m:\u001b[0m\u001b[0;34m\u001b[0m\u001b[0;34m\u001b[0m\u001b[0m\n\u001b[0;32m--> 173\u001b[0;31m                 \u001b[0;32mreturn\u001b[0m \u001b[0mself\u001b[0m\u001b[0;34m.\u001b[0m\u001b[0m_transform\u001b[0m\u001b[0;34m(\u001b[0m\u001b[0mdataset\u001b[0m\u001b[0;34m)\u001b[0m\u001b[0;34m\u001b[0m\u001b[0;34m\u001b[0m\u001b[0m\n\u001b[0m\u001b[1;32m    174\u001b[0m         \u001b[0;32melse\u001b[0m\u001b[0;34m:\u001b[0m\u001b[0;34m\u001b[0m\u001b[0;34m\u001b[0m\u001b[0m\n\u001b[1;32m    175\u001b[0m             \u001b[0;32mraise\u001b[0m \u001b[0mValueError\u001b[0m\u001b[0;34m(\u001b[0m\u001b[0;34m\"Params must be a param map but got %s.\"\u001b[0m \u001b[0;34m%\u001b[0m \u001b[0mtype\u001b[0m\u001b[0;34m(\u001b[0m\u001b[0mparams\u001b[0m\u001b[0;34m)\u001b[0m\u001b[0;34m)\u001b[0m\u001b[0;34m\u001b[0m\u001b[0;34m\u001b[0m\u001b[0m\n",
      "\u001b[0;32m/anaconda3/lib/python3.7/site-packages/pyspark/ml/wrapper.py\u001b[0m in \u001b[0;36m_transform\u001b[0;34m(self, dataset)\u001b[0m\n\u001b[1;32m    310\u001b[0m     \u001b[0;32mdef\u001b[0m \u001b[0m_transform\u001b[0m\u001b[0;34m(\u001b[0m\u001b[0mself\u001b[0m\u001b[0;34m,\u001b[0m \u001b[0mdataset\u001b[0m\u001b[0;34m)\u001b[0m\u001b[0;34m:\u001b[0m\u001b[0;34m\u001b[0m\u001b[0;34m\u001b[0m\u001b[0m\n\u001b[1;32m    311\u001b[0m         \u001b[0mself\u001b[0m\u001b[0;34m.\u001b[0m\u001b[0m_transfer_params_to_java\u001b[0m\u001b[0;34m(\u001b[0m\u001b[0;34m)\u001b[0m\u001b[0;34m\u001b[0m\u001b[0;34m\u001b[0m\u001b[0m\n\u001b[0;32m--> 312\u001b[0;31m         \u001b[0;32mreturn\u001b[0m \u001b[0mDataFrame\u001b[0m\u001b[0;34m(\u001b[0m\u001b[0mself\u001b[0m\u001b[0;34m.\u001b[0m\u001b[0m_java_obj\u001b[0m\u001b[0;34m.\u001b[0m\u001b[0mtransform\u001b[0m\u001b[0;34m(\u001b[0m\u001b[0mdataset\u001b[0m\u001b[0;34m.\u001b[0m\u001b[0m_jdf\u001b[0m\u001b[0;34m)\u001b[0m\u001b[0;34m,\u001b[0m \u001b[0mdataset\u001b[0m\u001b[0;34m.\u001b[0m\u001b[0msql_ctx\u001b[0m\u001b[0;34m)\u001b[0m\u001b[0;34m\u001b[0m\u001b[0;34m\u001b[0m\u001b[0m\n\u001b[0m\u001b[1;32m    313\u001b[0m \u001b[0;34m\u001b[0m\u001b[0m\n\u001b[1;32m    314\u001b[0m \u001b[0;34m\u001b[0m\u001b[0m\n",
      "\u001b[0;32m/anaconda3/lib/python3.7/site-packages/py4j/java_gateway.py\u001b[0m in \u001b[0;36m__call__\u001b[0;34m(self, *args)\u001b[0m\n\u001b[1;32m   1255\u001b[0m         \u001b[0manswer\u001b[0m \u001b[0;34m=\u001b[0m \u001b[0mself\u001b[0m\u001b[0;34m.\u001b[0m\u001b[0mgateway_client\u001b[0m\u001b[0;34m.\u001b[0m\u001b[0msend_command\u001b[0m\u001b[0;34m(\u001b[0m\u001b[0mcommand\u001b[0m\u001b[0;34m)\u001b[0m\u001b[0;34m\u001b[0m\u001b[0;34m\u001b[0m\u001b[0m\n\u001b[1;32m   1256\u001b[0m         return_value = get_return_value(\n\u001b[0;32m-> 1257\u001b[0;31m             answer, self.gateway_client, self.target_id, self.name)\n\u001b[0m\u001b[1;32m   1258\u001b[0m \u001b[0;34m\u001b[0m\u001b[0m\n\u001b[1;32m   1259\u001b[0m         \u001b[0;32mfor\u001b[0m \u001b[0mtemp_arg\u001b[0m \u001b[0;32min\u001b[0m \u001b[0mtemp_args\u001b[0m\u001b[0;34m:\u001b[0m\u001b[0;34m\u001b[0m\u001b[0;34m\u001b[0m\u001b[0m\n",
      "\u001b[0;32m/anaconda3/lib/python3.7/site-packages/pyspark/sql/utils.py\u001b[0m in \u001b[0;36mdeco\u001b[0;34m(*a, **kw)\u001b[0m\n\u001b[1;32m     77\u001b[0m                 \u001b[0;32mraise\u001b[0m \u001b[0mQueryExecutionException\u001b[0m\u001b[0;34m(\u001b[0m\u001b[0ms\u001b[0m\u001b[0;34m.\u001b[0m\u001b[0msplit\u001b[0m\u001b[0;34m(\u001b[0m\u001b[0;34m': '\u001b[0m\u001b[0;34m,\u001b[0m \u001b[0;36m1\u001b[0m\u001b[0;34m)\u001b[0m\u001b[0;34m[\u001b[0m\u001b[0;36m1\u001b[0m\u001b[0;34m]\u001b[0m\u001b[0;34m,\u001b[0m \u001b[0mstackTrace\u001b[0m\u001b[0;34m)\u001b[0m\u001b[0;34m\u001b[0m\u001b[0;34m\u001b[0m\u001b[0m\n\u001b[1;32m     78\u001b[0m             \u001b[0;32mif\u001b[0m \u001b[0ms\u001b[0m\u001b[0;34m.\u001b[0m\u001b[0mstartswith\u001b[0m\u001b[0;34m(\u001b[0m\u001b[0;34m'java.lang.IllegalArgumentException: '\u001b[0m\u001b[0;34m)\u001b[0m\u001b[0;34m:\u001b[0m\u001b[0;34m\u001b[0m\u001b[0;34m\u001b[0m\u001b[0m\n\u001b[0;32m---> 79\u001b[0;31m                 \u001b[0;32mraise\u001b[0m \u001b[0mIllegalArgumentException\u001b[0m\u001b[0;34m(\u001b[0m\u001b[0ms\u001b[0m\u001b[0;34m.\u001b[0m\u001b[0msplit\u001b[0m\u001b[0;34m(\u001b[0m\u001b[0;34m': '\u001b[0m\u001b[0;34m,\u001b[0m \u001b[0;36m1\u001b[0m\u001b[0;34m)\u001b[0m\u001b[0;34m[\u001b[0m\u001b[0;36m1\u001b[0m\u001b[0;34m]\u001b[0m\u001b[0;34m,\u001b[0m \u001b[0mstackTrace\u001b[0m\u001b[0;34m)\u001b[0m\u001b[0;34m\u001b[0m\u001b[0;34m\u001b[0m\u001b[0m\n\u001b[0m\u001b[1;32m     80\u001b[0m             \u001b[0;32mraise\u001b[0m\u001b[0;34m\u001b[0m\u001b[0;34m\u001b[0m\u001b[0m\n\u001b[1;32m     81\u001b[0m     \u001b[0;32mreturn\u001b[0m \u001b[0mdeco\u001b[0m\u001b[0;34m\u001b[0m\u001b[0;34m\u001b[0m\u001b[0m\n",
      "\u001b[0;31mIllegalArgumentException\u001b[0m: 'Field \"text\" does not exist.\\nAvailable fields: index, description'"
     ]
    }
   ],
   "source": [
    "query_df  = sc.parallelize([(1,SEARCH_QUERY)]).toDF(['index','description'])\n",
    "query_tok = regexTokenizer.transform(query_df)\n",
    "query_swr = swr.transform(query_tok)\n",
    "query_swr.show()\n",
    "query_vec = model.transform(query_swr)\n",
    "query_vec = query_vec.select('wordvectors').collect()[0][0]"
   ]
  },
  {
   "cell_type": "code",
   "execution_count": null,
   "metadata": {},
   "outputs": [],
   "source": []
  }
 ],
 "metadata": {
  "kernelspec": {
   "display_name": "Python 3",
   "language": "python",
   "name": "python3"
  },
  "language_info": {
   "codemirror_mode": {
    "name": "ipython",
    "version": 3
   },
   "file_extension": ".py",
   "mimetype": "text/x-python",
   "name": "python",
   "nbconvert_exporter": "python",
   "pygments_lexer": "ipython3",
   "version": "3.7.3"
  }
 },
 "nbformat": 4,
 "nbformat_minor": 2
}
